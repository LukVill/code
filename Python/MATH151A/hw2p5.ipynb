{
 "cells": [
  {
   "attachments": {},
   "cell_type": "markdown",
   "metadata": {},
   "source": [
    "# Problem 5\n",
    "Since the interval is $[0,2\\pi]$, if the endpoints' derivatives' values are within 1, then there exists at least 1 fixed point in the interval. \n",
    "\n",
    "\\begin{gather*}\n",
    "\n",
    "g'(x) = \\frac{cos(\\frac{x}{2})}{4} \\\\\n",
    "\n",
    "\\implies \\frac{cos(0)}{4} = \\frac{1}{4} \\\\ \n",
    "\\implies \\frac{cos(2 * pi/2)}{4} = \\frac{-1}{4}\\\\\n",
    "\n",
    "\\end{gather*}\n",
    "\n",
    "Since the values are within 1, there exists at least 1 fixed point in the interval."
   ]
  },
  {
   "cell_type": "code",
   "execution_count": null,
   "metadata": {},
   "outputs": [],
   "source": [
    "# Fixed point iteration \n",
    "def fixedPoint(func, p0, c = 100, tol = 0):\n",
    "    # initial guess\n",
    "    p = func(p0)\n",
    "\n",
    "    # while iterations within max amt, and f(p) != p and the diff are above tol\n",
    "    while(i != c and p != p0 and abs(p - p0) > tol):\n",
    "        p0 = p\n",
    "        p = func(p0)\n"
   ]
  }
 ],
 "metadata": {
  "language_info": {
   "name": "python"
  },
  "orig_nbformat": 4
 },
 "nbformat": 4,
 "nbformat_minor": 2
}
