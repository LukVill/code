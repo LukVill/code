{
 "cells": [
  {
   "attachments": {},
   "cell_type": "markdown",
   "metadata": {},
   "source": [
    "# Problem 6\n",
    "\n",
    "* $p_n = (\\frac{1}{10})^n$\n",
    "\n",
    "\\begin{gather*}\n",
    "\\frac{|\\frac{1}{10^{n+1}}|}{|\\frac{1}{10^n}|^1} = \\frac{10^n}{10^{n+1}} = \\frac{1}{10} \\implies \\lambda < 1\n",
    "\\end{gather*}\n",
    "\n",
    "So, $(\\frac{1}{10})^n$ converges linearly.\n",
    "\n",
    "* $p_n = (\\frac{1}{10})^{2^n}$\n",
    "\n",
    "\\begin{gather*}\n",
    "\\frac{|\\frac{1}{10^{2^{n+1}}}|}{|\\frac{1}{10^{2^n}}|^2} = \\frac{(10^{2^{n}})^{2}}{10^{2^{n+1}}} = \\frac{10^{4^{n}}}{10^{2^{n+1}}} \n",
    "\\end{gather*}\n",
    "\n",
    "Because $10^{4^{n}} > 10^{2^{n+1}}$, then $\\implies \\lambda > 1$, which means $(\\frac{1}{10})^{2^{n}}$ converges quadratically."
   ]
  },
  {
   "attachments": {},
   "cell_type": "markdown",
   "metadata": {},
   "source": [
    "# Problem 7"
   ]
  },
  {
   "cell_type": "code",
   "execution_count": 3,
   "metadata": {},
   "outputs": [
    {
     "name": "stdout",
     "output_type": "stream",
     "text": [
      "Program ran  16  iterations\n",
      "1.1241521966232515\n",
      "Program ran inputted iterations:  100\n",
      "1.2610940320265505\n",
      "Program ran  6  iterations\n",
      "1.124130676442744\n",
      "Program ran  3  iterations\n",
      "1.124123029704334\n"
     ]
    }
   ],
   "source": [
    "# Fixed point iteration, p0 is initial guess\n",
    "def fixedPoint(func, p0, c = 100, tol = 0):\n",
    "    # make p \n",
    "    p = func(p0)\n",
    "\n",
    "    # iterations\n",
    "    i = 0\n",
    "\n",
    "    # while iterations within max amt, and f(p) != p and the diff are above tol\n",
    "    while(i != c and p != p0 and abs(p - p0) > tol):\n",
    "        p0 = p\n",
    "        p = func(p0)\n",
    "        i += 1\n",
    "\n",
    "    # else, output\n",
    "    if(i == c):\n",
    "        print(\"Program ran inputted iterations: \", i)\n",
    "    else:\n",
    "        print(\"Program ran \", i, \" iterations\")\n",
    "\n",
    "    return p\n",
    "\n",
    "# g1\n",
    "def g1(x):\n",
    "    return (3 + x - 2*(x**2))**(1/4)\n",
    "\n",
    "# g2\n",
    "def g2(x):\n",
    "    return ((x + 3 - x**4)/(2))**(1/2)\n",
    "\n",
    "# g3\n",
    "def g3(x):\n",
    "    return ((x + 3)/(x**2 + 2))**(1/2)\n",
    "\n",
    "# g4\n",
    "def g4(x):\n",
    "    return ((3*x**4 + 2*x**2 + 3)/(4*x**3 + 4*x - 1))\n",
    "\n",
    "# assume tolerance level to be 10^-4\n",
    "\n",
    "print(fixedPoint(g1,1.0,tol=10**(-4)))\n",
    "print(fixedPoint(g2,1.0,tol=10**(-4)))\n",
    "print(fixedPoint(g3,1.0,tol=10**(-4)))\n",
    "print(fixedPoint(g4,1.0,tol=10**(-4)))"
   ]
  },
  {
   "attachments": {},
   "cell_type": "markdown",
   "metadata": {},
   "source": [
    "It seems that $g_4$ converged faster to a fixed point with the tolerance of $10^{-4}$. Based on a max number of 100 iterations, it seems that $g_2$ is failing to converge."
   ]
  }
 ],
 "metadata": {
  "kernelspec": {
   "display_name": "Python 3",
   "language": "python",
   "name": "python3"
  },
  "language_info": {
   "codemirror_mode": {
    "name": "ipython",
    "version": 3
   },
   "file_extension": ".py",
   "mimetype": "text/x-python",
   "name": "python",
   "nbconvert_exporter": "python",
   "pygments_lexer": "ipython3",
   "version": "3.10.11"
  },
  "orig_nbformat": 4
 },
 "nbformat": 4,
 "nbformat_minor": 2
}
