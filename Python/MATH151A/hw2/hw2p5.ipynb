{
 "cells": [
  {
   "attachments": {},
   "cell_type": "markdown",
   "metadata": {},
   "source": [
    "# Problem 5\n",
    "Since the interval is $[0,2\\pi]$, if the endpoints' derivatives' values are within 1, then there exists at least 1 fixed point in the interval. \n",
    "\n",
    "\\begin{gather*}\n",
    "\n",
    "g'(x) = \\frac{cos(\\frac{x}{2})}{4} \\\\\n",
    "\n",
    "\\implies \\frac{cos(0)}{4} = \\frac{1}{4} \\\\ \n",
    "\\implies \\frac{cos(2 * pi/2)}{4} = \\frac{-1}{4}\\\\\n",
    "\n",
    "\\end{gather*}\n",
    "\n",
    "Since the values are within 1, there exists at least 1 fixed point in the interval."
   ]
  },
  {
   "cell_type": "code",
   "execution_count": 4,
   "metadata": {},
   "outputs": [
    {
     "name": "stdout",
     "output_type": "stream",
     "text": [
      "Program ran  2  iterations\n",
      "3.626995622438735\n",
      "3.6269445388057027\n"
     ]
    }
   ],
   "source": [
    "import numpy as np\n",
    "\n",
    "# Fixed point iteration, p0 is initial guess\n",
    "def fixedPoint(func, p0, c = 100, tol = 0):\n",
    "    # make p \n",
    "    p = func(p0)\n",
    "\n",
    "    # iterations\n",
    "    i = 0\n",
    "\n",
    "    # while iterations within max amt, and f(p) != p and the diff are above tol\n",
    "    while(i != c and p != p0 and abs(p - p0) > tol):\n",
    "        p0 = p\n",
    "        p = func(p0)\n",
    "        i += 1\n",
    "\n",
    "    # else, output\n",
    "    if(i == c):\n",
    "        print(\"Program ran inputted iterations: \", i)\n",
    "    else:\n",
    "        print(\"Program ran \", i, \" iterations\")\n",
    "\n",
    "    return p\n",
    "\n",
    "def testFunc(x):\n",
    "    return np.pi + 0.5 * np.sin(x/2)\n",
    "\n",
    "fixedPoint(testFunc, np.pi, tol = 10**(-2))\n"
   ]
  },
  {
   "cell_type": "code",
   "execution_count": 6,
   "metadata": {},
   "outputs": [
    {
     "name": "stdout",
     "output_type": "stream",
     "text": [
      "Program ran 10 iterations\n"
     ]
    },
    {
     "data": {
      "text/plain": [
       "3.626330582561656"
      ]
     },
     "execution_count": 6,
     "metadata": {},
     "output_type": "execute_result"
    }
   ],
   "source": [
    "# condition to stop loop: reach counter number or until f(midpoint) = 0\n",
    "# default loop amount is 100\n",
    "def bisec(func, a, b, c = 100, tol = 0):\n",
    "    i = 0\n",
    "    mid = (a + b) / 2\n",
    "    # if iteration is not maxed, and midpoint not found and\n",
    "    # difference is over tolerance amount\n",
    "    while(i != c and func(mid) != 0 and abs(func(mid)) - 0 > tol):\n",
    "\n",
    "        mid = (a + b) / 2\n",
    "\n",
    "        # if func(mid) is negative and func(a) is negative OR \n",
    "        # func(mid) is + and func(a) is +, then [mid,b]\n",
    "\n",
    "        # if f(mid) and f(a) have same sign,\n",
    "        if((func(mid) < 0 and func(a) < 0) or (func(mid) > 0 and func(a) > 0)):\n",
    "            a = mid\n",
    "        # else, f(mid) and f(b) have same sign\n",
    "        else:\n",
    "            b = mid\n",
    "\n",
    "        # increment i\n",
    "        i += 1\n",
    "    \n",
    "    # print iteration amount\n",
    "    if(i == c):\n",
    "        print(\"Program ran inputted iterations:\", i)\n",
    "    else:\n",
    "        print(\"Program ran\", i, \"iterations\")\n",
    "    # result\n",
    "    return mid\n",
    "\n",
    "def testFunc2(x):\n",
    "    return np.sin(x/2) - 2*x + 2*np.pi\n",
    "\n",
    "bisec(testFunc2, 0, 2*np.pi, tol = 10**(-2))"
   ]
  },
  {
   "attachments": {},
   "cell_type": "markdown",
   "metadata": {},
   "source": [
    "Based on the initial guess, the fixed point interation finished in 2 iterations while the theoretical result using bisection method says 10 iterations are needed."
   ]
  }
 ],
 "metadata": {
  "kernelspec": {
   "display_name": "Python 3",
   "language": "python",
   "name": "python3"
  },
  "language_info": {
   "codemirror_mode": {
    "name": "ipython",
    "version": 3
   },
   "file_extension": ".py",
   "mimetype": "text/x-python",
   "name": "python",
   "nbconvert_exporter": "python",
   "pygments_lexer": "ipython3",
   "version": "3.10.11"
  },
  "orig_nbformat": 4
 },
 "nbformat": 4,
 "nbformat_minor": 2
}
