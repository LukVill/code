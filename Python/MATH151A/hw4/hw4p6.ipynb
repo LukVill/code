{
 "cells": [
  {
   "attachments": {},
   "cell_type": "markdown",
   "metadata": {},
   "source": [
    "# Problem 6"
   ]
  },
  {
   "cell_type": "code",
   "execution_count": 47,
   "metadata": {},
   "outputs": [
    {
     "data": {
      "text/html": [
       "<div>\n",
       "<style scoped>\n",
       "    .dataframe tbody tr th:only-of-type {\n",
       "        vertical-align: middle;\n",
       "    }\n",
       "\n",
       "    .dataframe tbody tr th {\n",
       "        vertical-align: top;\n",
       "    }\n",
       "\n",
       "    .dataframe thead th {\n",
       "        text-align: right;\n",
       "    }\n",
       "</style>\n",
       "<table border=\"1\" class=\"dataframe\">\n",
       "  <thead>\n",
       "    <tr style=\"text-align: right;\">\n",
       "      <th></th>\n",
       "      <th>x_i</th>\n",
       "      <th>f(xi)</th>\n",
       "      <th>f[xi-1,xi]</th>\n",
       "      <th>f[xi-2,xi-1,xi]</th>\n",
       "      <th>f[xi-3,xi-2,xi-1,xi]</th>\n",
       "    </tr>\n",
       "  </thead>\n",
       "  <tbody>\n",
       "    <tr>\n",
       "      <th>0</th>\n",
       "      <td>-0.1</td>\n",
       "      <td>5.30</td>\n",
       "      <td>NaN</td>\n",
       "      <td>NaN</td>\n",
       "      <td>NaN</td>\n",
       "    </tr>\n",
       "    <tr>\n",
       "      <th>1</th>\n",
       "      <td>0.0</td>\n",
       "      <td>2.00</td>\n",
       "      <td>-33.00</td>\n",
       "      <td>NaN</td>\n",
       "      <td>NaN</td>\n",
       "    </tr>\n",
       "    <tr>\n",
       "      <th>2</th>\n",
       "      <td>0.2</td>\n",
       "      <td>3.19</td>\n",
       "      <td>5.95</td>\n",
       "      <td>129.833333</td>\n",
       "      <td>NaN</td>\n",
       "    </tr>\n",
       "    <tr>\n",
       "      <th>3</th>\n",
       "      <td>0.3</td>\n",
       "      <td>1.00</td>\n",
       "      <td>-21.90</td>\n",
       "      <td>-92.833333</td>\n",
       "      <td>-556.666667</td>\n",
       "    </tr>\n",
       "  </tbody>\n",
       "</table>\n",
       "</div>"
      ],
      "text/plain": [
       "   x_i  f(xi)  f[xi-1,xi]  f[xi-2,xi-1,xi]  f[xi-3,xi-2,xi-1,xi]\n",
       "0 -0.1   5.30         NaN              NaN                   NaN\n",
       "1  0.0   2.00      -33.00              NaN                   NaN\n",
       "2  0.2   3.19        5.95       129.833333                   NaN\n",
       "3  0.3   1.00      -21.90       -92.833333           -556.666667"
      ]
     },
     "execution_count": 47,
     "metadata": {},
     "output_type": "execute_result"
    }
   ],
   "source": [
    "# make pandas dataframe of information\n",
    "import numpy as np\n",
    "import pandas as pd\n",
    "from icecream import ic\n",
    "\n",
    "# ,columns=[\"f[xi,xi+1]\",\"f[xi,xi+1,xi+2]\"]\n",
    "\n",
    "df = pd.DataFrame({\"x_i\" : [-0.1,0.0,0.2,0.3], \"f(xi)\" : [5.3,2.0,3.19,1.0], \"f[xi-1,xi]\": np.nan , \"f[xi-2,xi-1,xi]\" : np.nan, \"f[xi-3,xi-2,xi-1,xi]\" : np.nan})\n",
    "\n",
    "# make first col of differences\n",
    "for i in range(1,4):\n",
    "    # make the row in col 2, f[xi-1,xi] = (f(xi) - f(xi-1)) / (xi - xi-1)\n",
    "    df.iloc[i,2] = (df.iloc[i, 1] - df.iloc[i-1,1]) / (df.iloc[i,0] - df.iloc[i-1,0])\n",
    "\n",
    "# make second col of differences\n",
    "for i in range(2,4):\n",
    "    # make the row in colindx 3, f[xi-1,xi] = (f(xi) - f(xi-1)) / (xi - xi-1)\n",
    "    df.iloc[i,3] = (df.iloc[i, 2] - df.iloc[i-1,2]) / (df.iloc[i,0] - df.iloc[i-2,0])\n",
    "\n",
    "# 3rd col\n",
    "for i in range(3,4):\n",
    "    df.iloc[i,4] = (df.iloc[i, 3] - df.iloc[i-1,3]) / (df.iloc[i,0] - df.iloc[i-3,0])\n",
    "\n",
    "df"
   ]
  },
  {
   "attachments": {},
   "cell_type": "markdown",
   "metadata": {},
   "source": [
    "Based on the produced chart of differences, the following will be the interpolating polynomial of the given points:\n",
    "\n",
    "\\begin{gather*}\n",
    "\n",
    "P_3(x) = a_0 + a_1 (x-x_0) + a_2 (x-x_0)(x-x_1) + a_3 (x-x_0)(x-x_1)(x-x_2) \\\\ \\implies \\\\\n",
    "\n",
    "P_3(x) = f[x_0] + f[x_0,x_1] (x-x_0) + f[x_0,x_1,x_2] (x-x_0)(x-x_1) + f[x_0,x_1,x_2,x_3] (x-x_0)(x-x_1)(x-x_2) \\\\ \\implies \\\\\n",
    "\n",
    "P_3(x) = 5.3 + -33 (x+0.1) + 129.833 (x+0.1)(x) -556.667 (x+0.1)(x)(x-0.2) \\\\ \\implies \\\\\n",
    "\n",
    "\\end{gather*}"
   ]
  }
 ],
 "metadata": {
  "kernelspec": {
   "display_name": "Python 3",
   "language": "python",
   "name": "python3"
  },
  "language_info": {
   "codemirror_mode": {
    "name": "ipython",
    "version": 3
   },
   "file_extension": ".py",
   "mimetype": "text/x-python",
   "name": "python",
   "nbconvert_exporter": "python",
   "pygments_lexer": "ipython3",
   "version": "3.10.11"
  },
  "orig_nbformat": 4
 },
 "nbformat": 4,
 "nbformat_minor": 2
}
