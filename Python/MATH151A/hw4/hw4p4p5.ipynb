{
 "cells": [
  {
   "attachments": {},
   "cell_type": "markdown",
   "metadata": {},
   "source": [
    "# Problem 4\n",
    "\n",
    "\\begin{gather*}\n",
    "\n",
    "P_n(x_2) = f(x_2) = f[x_2] = f(x_0) + a_1(x_2 - x_0) + a_2(x_2 - x_0) (x_2 - x_1) \\\\\n",
    "\n",
    "\\implies \\\\\n",
    "f[x_2] = f[x_0] + f[x_0,x_1](x_2 - x_0) + a_2(x_2 - x_0)(x_2 - x_1) \\\\ \n",
    "\\implies \\\\\n",
    "a_2 = \\frac{f[x_2] - f[x_0] - f[x_0,x_1](x_2 - x_0)}{(x_2 - x_0)(x_2 - x_1)} \\\\\n",
    "\\implies \\\\\n",
    "a_2 = \\frac{(f[x_2] - f[x_1]) + (f[x_1] - f[x_0]) - f[x_0,x_1](x_2 - x_0)}{(x_2 - x_0)(x_2 - x_1)} \\\\\n",
    "\\implies \\\\\n",
    "a_2 = \\frac{f[x_1,x_2]}{x_2-x_0} + \\frac{f[x_1] - f[x_0] - f[x_0,x_1](x_2 - x_0)}{(x_2 - x_0)(x_2 - x_1)} \\\\\n",
    "\\implies \\\\\n",
    "a_2 = \\frac{f[x_1,x_2]}{x_2-x_0} + \\frac{f[x_1] - f[x_0]}{(x_2 - x_0)(x_2 - x_1)} * (\\frac{x_1 - x_0}{x_1 - x_0})  - \\frac{f[x_0,x_1](x_2 - x_0)}{(x_2 - x_0)(x_2 - x_1)} \\\\\n",
    "\\implies \\\\\n",
    "a_2 = \\frac{f[x_1,x_2]}{x_2-x_0} + \\frac{f[x_0,x_1](x_1 - x_0)}{(x_2 - x_0)(x_2 - x_1)} - \\frac{f[x_0,x_1](x_2 - x_0)}{(x_2 - x_0)(x_2 - x_1)} \\\\\n",
    "\\implies \\\\\n",
    "a_2 = \\frac{f[x_1,x_2]}{x_2-x_0} + \\frac{f[x_0,x_1]}{x_2 - x_0} (\\frac{x_1 - x_0}{x_2 - x_1} - \\frac{x_2 - x_0}{x_2 - x_1}) \\\\\n",
    "\\implies \\\\\n",
    "a_2 = \\frac{f[x_1,x_2]}{x_2-x_0} + \\frac{f[x_0,x_1]}{x_2 - x_0} (\\frac{x_1 - x_2}{x_2 - x_1}) \\\\\n",
    "\\implies \\\\\n",
    "a_2 = \\frac{f[x_1,x_2]}{x_2-x_0} - \\frac{f[x_0,x_1]}{x_2 - x_0}  \\\\\n",
    "\\implies \\\\\n",
    "a_2 = \\frac{f[x_1,x_2] - f[x_0,x_1]}{x_2-x_0} \\\\\n",
    "\\implies \\\\\n",
    "a_2 = f[x_0,x_1,x_2]\\\\\n",
    "\n",
    "\n",
    "\\end{gather*}"
   ]
  },
  {
   "attachments": {},
   "cell_type": "markdown",
   "metadata": {},
   "source": [
    "# Problem 5\n",
    "\n",
    "## a. \n",
    "$\n",
    "P(x) = 3 - 2(x+1) + 0(x+1)(x) + (x+1)(x)(x-1) \\\\\n",
    "Q(x) = -1 + 4(x+1) - 3(x+2)(x+1) + (x+2)(x+1)(x)\\\\\n",
    "$"
   ]
  },
  {
   "cell_type": "code",
   "execution_count": 1,
   "metadata": {},
   "outputs": [
    {
     "name": "stdout",
     "output_type": "stream",
     "text": [
      "x:  -2\n",
      "P(x):  -1\n",
      "Q(x):  -1 \n",
      "\n",
      "x:  -1\n",
      "P(x):  3\n",
      "Q(x):  3 \n",
      "\n",
      "x:  0\n",
      "P(x):  1\n",
      "Q(x):  1 \n",
      "\n",
      "x:  1\n",
      "P(x):  -1\n",
      "Q(x):  -1 \n",
      "\n",
      "x:  2\n",
      "P(x):  3\n",
      "Q(x):  3 \n",
      "\n"
     ]
    }
   ],
   "source": [
    "# make code to output the data \n",
    "\n",
    "pfunc = lambda x : 3 - 2*(x+1) + 0*(x+1)*(x) + (x+1)*(x)*(x-1)\n",
    "\n",
    "qfunc = lambda x : -1 + 4*(x+2) - 3*(x+2)*(x+1) + (x+2)*(x+1)*(x)\n",
    "\n",
    "# print out results of each function\n",
    "# -2 to 3 to exclude 3\n",
    "for i in range(-2,3):\n",
    "    print(\"x: \", i)\n",
    "    print(\"P(x): \", pfunc(i))\n",
    "    print(\"Q(x): \", qfunc(i), \"\\n\")"
   ]
  },
  {
   "attachments": {},
   "cell_type": "markdown",
   "metadata": {},
   "source": [
    "The results are the same for both functions, so they interpolate the given data."
   ]
  },
  {
   "attachments": {},
   "cell_type": "markdown",
   "metadata": {},
   "source": [
    "## b.\n",
    "\n",
    "Part a. does not violate the uniqueness property because even if the polynomials are of different format, they are the same value. This can be proven by the following:\n",
    "\n",
    "\\begin{gather*}\n",
    "\n",
    "P(x) = 3 - 2(x+1) + 0(x+1)(x) + (x+1)(x)(x-1) \\\\\n",
    "= 3 -2x -2 + x^3 - x^2 + x^2 - x \\\\\n",
    "P(x) = x^3 - 3x + 1 \\\\\\\\\n",
    "\n",
    "Q(x) = -1 + 4(x+1) - 3(x+2)(x+1) + (x+2)(x+1)(x) \\\\\n",
    "= -1 + 4x + 8 - (3x^2 + 9x + 6) + (x^3 + 3x^2 + 2x) \\\\\n",
    "= -1 + 4x + 8 -3x^2 - 9x - 6 + x^3 + 3x^2 + 2x\\\\\n",
    "Q(x) = x^3 -3x + 1\\\\\n",
    "\n",
    "\\end{gather*}\n",
    "\n",
    "And so, the uniqueness property holds."
   ]
  }
 ],
 "metadata": {
  "kernelspec": {
   "display_name": "Python 3",
   "language": "python",
   "name": "python3"
  },
  "language_info": {
   "codemirror_mode": {
    "name": "ipython",
    "version": 3
   },
   "file_extension": ".py",
   "mimetype": "text/x-python",
   "name": "python",
   "nbconvert_exporter": "python",
   "pygments_lexer": "ipython3",
   "version": "3.10.11"
  },
  "orig_nbformat": 4
 },
 "nbformat": 4,
 "nbformat_minor": 2
}
