{
 "cells": [
  {
   "attachments": {},
   "cell_type": "markdown",
   "metadata": {},
   "source": [
    "# Problem 2\n",
    "\n",
    "Need to find:\n",
    "\n",
    "$ \n",
    "f[x_0] \\\\\n",
    "f[x_1] \\\\\n",
    "f[x_0,x_1]\n",
    "$\n",
    "\n",
    "So,\n",
    "\n",
    "\\begin{gather*}\n",
    "\n",
    "f[x_0,x_1,x_2] = \\frac{f[x_1,x_2] - f[x_0,x_1]}{x_2 - x_0} = \\frac{50}{7} \\\\\n",
    "\n",
    "70 - 7f[x_0,x_1] = 50(\\frac{7}{10}) \\\\\n",
    "\n",
    "-7f[x_0,x_1] = 35 \\\\\n",
    "\n",
    "\\implies f[x_0,x_1] = 5 \\\\\\\\\n",
    "\n",
    "f[x_1,x_2] = \\frac{f(x_2) - f(x_1)}{x_2 - x_1} = 10 \\\\\n",
    "\n",
    "6 - f(x_1) = 10 (\\frac{3}{10}) \\\\\n",
    "\n",
    "\\implies f(x_1) = 3 \\\\\\\\\n",
    "\n",
    "f[x_0,x_1] = \\frac{f[x_1]-f[x_0]}{x_1 - x_0} = 5 \\\\\n",
    "f(x_1) - f(x_0) = 5(\\frac{4}{10}) \\\\\n",
    "3 - f(x_0) = 2 \\\\\n",
    "\\implies f(x_0) = 1\n",
    "\n",
    "\\end{gather*}"
   ]
  },
  {
   "attachments": {},
   "cell_type": "markdown",
   "metadata": {},
   "source": [
    "# Problem 3\n",
    "\n",
    "Since we are given $\\Delta P(0) = 24$, we know that for all $x$, $\\Delta^4P(x) = 24$ because P(x) is a 4th degree polynomial, and all 4th degree differences are constant.\n",
    "\n",
    "We also know that \n",
    "$\n",
    "\\\\\n",
    "\\Delta^4 P(x) = \\Delta^3 (\\Delta P(x)) \\\\\n",
    "\\implies \\Delta^3 (P(x+1) - P(x)) \n",
    "\\\\\n",
    "\\implies \\Delta^3 P(x+1) - \\Delta^3 P(x)\n",
    "\\\\\\\\\n",
    "\\implies\n",
    "\\Delta^4 P(x) + \\Delta^3 P(x) = \\Delta^3 P(x+1)\\\\\n",
    "$\n",
    "\n",
    "Let us use induction and change 4 into $k$ and 3 into $k-1$:\n",
    "\n",
    "$\n",
    "\\implies \\Delta^k P(x) + \\Delta^{k-1} P(x) = \\Delta^{k-1} P(x+1)\n",
    "$\n",
    "\n",
    "Let's use the given info that $\\Delta^4 P(0) = 24, \\Delta^3 P(0) = 6, \\Delta^2 P(0) = 0$ to calculate all x's on the 3rd order difference:"
   ]
  },
  {
   "cell_type": "code",
   "execution_count": 1,
   "metadata": {},
   "outputs": [
    {
     "name": "stderr",
     "output_type": "stream",
     "text": [
      "ic| thirdDegrees: array([[  0.,   6.],\n",
      "                         [  1.,  30.],\n",
      "                         [  2.,  54.],\n",
      "                         [  3.,  78.],\n",
      "                         [  4., 102.],\n",
      "                         [  5., 126.],\n",
      "                         [  6., 150.],\n",
      "                         [  7., 174.],\n",
      "                         [  8., 198.],\n",
      "                         [  9., 222.],\n",
      "                         [ 10., 246.]])\n",
      "ic| secondDegrees: array([[   0.,    0.],\n",
      "                          [   1.,    6.],\n",
      "                          [   2.,   36.],\n",
      "                          [   3.,   90.],\n",
      "                          [   4.,  168.],\n",
      "                          [   5.,  270.],\n",
      "                          [   6.,  396.],\n",
      "                          [   7.,  546.],\n",
      "                          [   8.,  720.],\n",
      "                          [   9.,  918.],\n",
      "                          [  10., 1140.]])\n"
     ]
    },
    {
     "data": {
      "text/plain": [
       "array([[   0.,    0.],\n",
       "       [   1.,    6.],\n",
       "       [   2.,   36.],\n",
       "       [   3.,   90.],\n",
       "       [   4.,  168.],\n",
       "       [   5.,  270.],\n",
       "       [   6.,  396.],\n",
       "       [   7.,  546.],\n",
       "       [   8.,  720.],\n",
       "       [   9.,  918.],\n",
       "       [  10., 1140.]])"
      ]
     },
     "execution_count": 1,
     "metadata": {},
     "output_type": "execute_result"
    }
   ],
   "source": [
    "# import numpy\n",
    "import numpy as np\n",
    "from icecream import ic\n",
    "\n",
    "# get rid of scientific notation (because scope is not big)\n",
    "np.set_printoptions(suppress=True)\n",
    "\n",
    "# make res of vals\n",
    "# col 1 is x, col 2 is 3rd order forward difference\n",
    "thirdDegrees = np.zeros([11,2])\n",
    "\n",
    "# make vals on x be increasing\n",
    "for i in range(0,11):\n",
    "    thirdDegrees[i,0] = i\n",
    "\n",
    "# 4th degree val\n",
    "fourth = 24\n",
    "\n",
    "# set first val\n",
    "thirdDegrees[0,1] = 6\n",
    "\n",
    "# fill third degree array\n",
    "for i in range(1,11):\n",
    "    thirdDegrees[i,1] = fourth + thirdDegrees[i-1,1]\n",
    "\n",
    "ic(thirdDegrees)\n",
    "\n",
    "# do the same for 2nd degree but use third degree vals now\n",
    "\n",
    "secondDegrees = np.zeros([11,2])\n",
    "for i in range(0,11):\n",
    "    secondDegrees[i,0] = i\n",
    "\n",
    "# fill 2nd degree 0 val = 0\n",
    "# already filled as 0\n",
    "\n",
    "# fill with formula\n",
    "for i in range(1,11):\n",
    "    secondDegrees[i,1] = int(thirdDegrees[i-1,1] + secondDegrees[i-1,1])\n",
    "\n",
    "# print out result\n",
    "ic(secondDegrees)\n"
   ]
  },
  {
   "attachments": {},
   "cell_type": "markdown",
   "metadata": {},
   "source": [
    "And so, based on the output, when $x = 10, \\Delta^2 P(10) = 1140$."
   ]
  }
 ],
 "metadata": {
  "kernelspec": {
   "display_name": "Python 3",
   "language": "python",
   "name": "python3"
  },
  "language_info": {
   "codemirror_mode": {
    "name": "ipython",
    "version": 3
   },
   "file_extension": ".py",
   "mimetype": "text/x-python",
   "name": "python",
   "nbconvert_exporter": "python",
   "pygments_lexer": "ipython3",
   "version": "3.10.11"
  },
  "orig_nbformat": 4
 },
 "nbformat": 4,
 "nbformat_minor": 2
}
