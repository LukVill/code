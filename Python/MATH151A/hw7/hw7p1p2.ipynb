{
 "cells": [
  {
   "attachments": {},
   "cell_type": "markdown",
   "metadata": {},
   "source": [
    "<center>\n",
    "\n",
    "# Homework 7\n",
    "\n",
    "<h4> Luke Villanueva // MATH151A // 6/9/23 </h4>\n",
    "\n",
    "</center>"
   ]
  },
  {
   "attachments": {},
   "cell_type": "markdown",
   "metadata": {},
   "source": [
    "# Problem 1"
   ]
  },
  {
   "cell_type": "code",
   "execution_count": 11,
   "metadata": {},
   "outputs": [
    {
     "name": "stdout",
     "output_type": "stream",
     "text": [
      "a.  1.9254088348887368\n",
      "b.  0.3586530720064505\n",
      "c.  1.0062784888361378\n",
      "d.  0.46256622493980226\n"
     ]
    }
   ],
   "source": [
    "import numpy as np\n",
    "\n",
    "# simpson's rule\n",
    "def compSimp(x,f,h):\n",
    "    # extract indices from index 1 to (n/2)-1\n",
    "    # first sum\n",
    "    sum1 = 0\n",
    "    for i in np.arange(1,int((len(x)-1)/2)):\n",
    "        sum1 += f(x[2*i])\n",
    "    # extract indices from index 1 to (n/2)\n",
    "    # second sum\n",
    "    sum2 = 0\n",
    "    for i in np.arange(1,int((len(x)-1)/2)+1):\n",
    "        sum2 += f(x[2*i - 1])\n",
    "\n",
    "    return (h/3)*(f(x[0]) + 2*sum1 + 4*sum2 + f(x[len(x)-1]))\n",
    "\n",
    "# a.\n",
    "n1 = 4\n",
    "h1 = 2/n1\n",
    "f1 = lambda x : x * np.log(n1)\n",
    "x1 = np.linspace(1,2,n1)\n",
    "\n",
    "print(\"a. \", compSimp(x1,f1,h1))\n",
    "\n",
    "# b.\n",
    "n2 = 8\n",
    "h2 = 2/n2\n",
    "f2 = lambda x : (x)/(x**2 + 4)\n",
    "x2 = np.linspace(1,3,n2)\n",
    "\n",
    "print(\"b. \", compSimp(x2,f2,h2))\n",
    "\n",
    "# c.\n",
    "n3 = 8\n",
    "h3 = 2/n3\n",
    "f3 = lambda x : np.tan(x)\n",
    "x3 = np.linspace(0,3*np.pi/8,n3)\n",
    "\n",
    "print(\"c. \", compSimp(x3,f3,h3))\n",
    "\n",
    "# d.\n",
    "n4 = 6\n",
    "h4 = 2/n4\n",
    "f4 = lambda x : (np.e**((-x**2)/(2)))/(np.sqrt(2*np.pi))\n",
    "x4 = np.linspace(-1,1,6)\n",
    "\n",
    "print(\"d. \", compSimp(x4,f4,h4))"
   ]
  },
  {
   "attachments": {},
   "cell_type": "markdown",
   "metadata": {},
   "source": [
    "# Problem 2\n",
    "\n",
    "## a.\n",
    "\n",
    "\\begin{gather*}\n",
    "\n",
    "t = \\frac{x}{2} + \\frac{1}{2} \\\\\n",
    "dt = \\frac{1}{2}dx \\\\\n",
    "\n",
    "\\int_0^1 x^2 e^{-x} dx = \\int_{-1}^{1} \\frac{1}{2} f(\\frac{x}{2} + \\frac{1}{2}) dx \\\\\n",
    "\n",
    "\\implies \n",
    "\n",
    "F(x) = \\frac{1}{2} f(\\frac{x}{2} + \\frac{1}{2}) \\\\\n",
    "\n",
    "\\end{gather*}"
   ]
  },
  {
   "cell_type": "code",
   "execution_count": 8,
   "metadata": {},
   "outputs": [
    {
     "name": "stdout",
     "output_type": "stream",
     "text": [
      "a.  0.12262648039048077\n"
     ]
    }
   ],
   "source": [
    "import numpy as np\n",
    "\n",
    "# G3 formula\n",
    "def g3(func):\n",
    "    return (5/9)*func(-np.sqrt(3/5)) + (8/9)*func(0) + (5/9)*func(np.sqrt(3/5))\n",
    "\n",
    "# f(x)\n",
    "f = lambda x : x**2 * (1/np.e)\n",
    "\n",
    "# F(x)\n",
    "F = lambda x : (1/2) * f((x/2) + (1/2)) \n",
    "\n",
    "\n",
    "print(\"a. \", g3(F))"
   ]
  },
  {
   "attachments": {},
   "cell_type": "markdown",
   "metadata": {},
   "source": [
    "## b.\n",
    "\n",
    "\\begin{gather*}\n",
    "\n",
    "t = \\frac{\\pi}{8} + \\frac{\\pi}{8} \\\\\n",
    "dt = \\frac{\\pi}{8}dx \\\\\n",
    "\n",
    "\\int_0^{\\frac{\\pi}{4}} x^2 sin(x) dx = \\int_{-1}^{1} \\frac{\\pi}{8} f(\\frac{\\pi x}{8} + \\frac{\\pi}{8}) dx \\\\\n",
    "\n",
    "\\implies \n",
    "\n",
    "F(x) = \\frac{\\pi}{8} f(\\frac{\\pi x}{8} + \\frac{\\pi}{8})  \\\\\n",
    "\n",
    "\\end{gather*}"
   ]
  },
  {
   "cell_type": "code",
   "execution_count": 17,
   "metadata": {},
   "outputs": [
    {
     "name": "stdout",
     "output_type": "stream",
     "text": [
      "b.  0.05501446143540251\n"
     ]
    }
   ],
   "source": [
    "import numpy as np\n",
    "\n",
    "# G3 formula\n",
    "def g3(func):\n",
    "    return (5/9)*func(-np.sqrt(3)/5) + (8/9)*func(0) + (5/9)*func(np.sqrt(3)/5)\n",
    "\n",
    "# f(x)\n",
    "f = lambda x : x**2 * np.sin(x)\n",
    "\n",
    "# F(x)\n",
    "F = lambda x : (np.pi/8) * f((np.pi * x / 8) + (np.pi/8))\n",
    "\n",
    "print(\"b. \", g3(F))\n"
   ]
  }
 ],
 "metadata": {
  "kernelspec": {
   "display_name": "Python 3",
   "language": "python",
   "name": "python3"
  },
  "language_info": {
   "codemirror_mode": {
    "name": "ipython",
    "version": 3
   },
   "file_extension": ".py",
   "mimetype": "text/x-python",
   "name": "python",
   "nbconvert_exporter": "python",
   "pygments_lexer": "ipython3",
   "version": "3.10.11"
  },
  "orig_nbformat": 4
 },
 "nbformat": 4,
 "nbformat_minor": 2
}
