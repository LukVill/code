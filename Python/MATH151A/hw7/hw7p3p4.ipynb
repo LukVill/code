{
 "cells": [
  {
   "attachments": {},
   "cell_type": "markdown",
   "metadata": {},
   "source": [
    "# Problem 3\n",
    "\n",
    "Based on the desired quadrature formula of $af(-1) + bf(1) + cf'(-1) + df'(1)$, the coefficients can be found via:\n",
    "\n",
    "\\begin{gather*}\n",
    "\n",
    "\\int_{-1}^{1} 1 dx \\implies a + b = 2 \\\\\n",
    "\n",
    "\\int_{-1}^{1} x dx \\implies -a + b + c + d = 0 \\\\\n",
    "\n",
    "\\int_{-1}^{1} x^2 dx \\implies a + b - 2c + 2d = \\frac{2}{3} \\\\\n",
    "\n",
    "\\int_{-1}^{1} x^3 dx \\implies -a + b + 3c + 3d = 0 \\\\\n",
    "\n",
    "\\end{gather*}\n",
    "\n",
    "Making the matrix of equations and solving for the coefficients:"
   ]
  },
  {
   "cell_type": "code",
   "execution_count": 4,
   "metadata": {},
   "outputs": [
    {
     "name": "stdout",
     "output_type": "stream",
     "text": [
      "[ 1.          1.          0.33333333 -0.33333333]\n"
     ]
    }
   ],
   "source": [
    "import numpy as np\n",
    "\n",
    "A = np.matrix([[1,1,0,0],[-1,1,1,1],[1,1,-2,2],[-1,1,3,3]])\n",
    "b = [2,0,2/3,0]\n",
    "\n",
    "print(np.linalg.solve(A,b))"
   ]
  },
  {
   "attachments": {},
   "cell_type": "markdown",
   "metadata": {},
   "source": [
    "$\\int_{-1}^{1} f(x) \\approx f(-1) + f(1) + \\frac{1}{3}f'(-1) - \\frac{1}{3}f'(1)$"
   ]
  },
  {
   "attachments": {},
   "cell_type": "markdown",
   "metadata": {},
   "source": [
    "# Problem 4"
   ]
  },
  {
   "cell_type": "code",
   "execution_count": 56,
   "metadata": {},
   "outputs": [
    {
     "data": {
      "text/plain": [
       "matrix([[ 1.],\n",
       "        [-1.],\n",
       "        [ 3.]])"
      ]
     },
     "execution_count": 56,
     "metadata": {},
     "output_type": "execute_result"
    }
   ],
   "source": [
    "import numpy as np\n",
    "\n",
    "def upperTri(mat):\n",
    "    # for each column\n",
    "    for col in range(mat.shape[1]):\n",
    "        i = col\n",
    "\n",
    "        # for each row \n",
    "        while i < mat.shape[0]-1:\n",
    "            # check if non zero\n",
    "            if(mat[i+1,col] != 0):\n",
    "                # get scalar amount\n",
    "                c = -mat[i+1,col]/mat[col,col]\n",
    "                # make multiplied row\n",
    "                addRow = mat[col,:] * c\n",
    "                # add to row\n",
    "                mat[i+1,:] = mat[i+1,:] + addRow\n",
    "                \n",
    "\n",
    "            # increment row\n",
    "            i += 1\n",
    "\n",
    "    return mat\n",
    "\n",
    "# assume that mat and b are already separated\n",
    "def backsub(mat,b):\n",
    "    # make result vec\n",
    "    x = b\n",
    "\n",
    "    # start i at last index\n",
    "    i = len(mat)-1\n",
    "    \n",
    "    while i >= 0:\n",
    "        # get x\n",
    "        # for each entry BUT on curr,\n",
    "        for j in range(mat.shape[1]):\n",
    "            if i != j:             \n",
    "                # subtract x by entries\n",
    "                x[i] -= mat[i,j]\n",
    "        # divide the curr entry\n",
    "        x[i] /= mat[i,i]\n",
    "\n",
    "        # update A with new found variable\n",
    "        mat[:,i] *= x[i]\n",
    "\n",
    "        # decrement\n",
    "        i -= 1\n",
    "\n",
    "    return x\n",
    "\n",
    "\n",
    "def solve(A, b):\n",
    "\n",
    "    # type cast first\n",
    "    A = np.float64(A)\n",
    "    b = np.float64(b)\n",
    "\n",
    "    # get upper triangle\n",
    "    matA = np.c_[A,b]\n",
    "    matA = upperTri(matA)\n",
    "\n",
    "    # extract A and b\n",
    "    A = matA[:,:len(matA)]\n",
    "    b = matA[:,len(matA)]\n",
    "\n",
    "    # back substitute\n",
    "    return backsub(A,b)\n",
    "\n",
    "A = np.matrix([[4,-1,1],[2,5,2],[1,2,4]])\n",
    "b = [8,3,11]\n",
    "A = np.float64(A)\n",
    "b = np.float64(b)\n",
    "\n",
    "solve(A,b)\n"
   ]
  },
  {
   "attachments": {},
   "cell_type": "markdown",
   "metadata": {},
   "source": [
    "Results imply that $x_1 = 1, x_2 = -1, x_3 = 3$"
   ]
  }
 ],
 "metadata": {
  "kernelspec": {
   "display_name": "Python 3",
   "language": "python",
   "name": "python3"
  },
  "language_info": {
   "codemirror_mode": {
    "name": "ipython",
    "version": 3
   },
   "file_extension": ".py",
   "mimetype": "text/x-python",
   "name": "python",
   "nbconvert_exporter": "python",
   "pygments_lexer": "ipython3",
   "version": "3.10.11"
  },
  "orig_nbformat": 4
 },
 "nbformat": 4,
 "nbformat_minor": 2
}
