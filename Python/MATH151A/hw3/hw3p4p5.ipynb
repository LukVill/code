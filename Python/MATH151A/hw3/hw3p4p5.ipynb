{
 "cells": [
  {
   "attachments": {},
   "cell_type": "markdown",
   "metadata": {},
   "source": [
    "# Problem 4\n",
    "\n",
    "Since L(x) is the slope,\n",
    "\n",
    "$L(x) = m(x_{n+1} - x_n)$\n",
    "\n",
    "Given an initial point and a slope, we can use the point-slope formula and find its root:\n",
    "\n",
    "\\begin{gather*}\n",
    "\n",
    "f(x_{n+1}) = m(x_{n+1} - x_n) + f(x_n) \\\\\n",
    "\n",
    "\\text{If we set } f(x_{n+1}) \\text{ equal to 0 to find the root,} \\\\\n",
    "\n",
    "0 = mx_{n+1} - mx_{n} + f(x_n) \\\\\n",
    "\n",
    "x_{n+1} = \\frac{mx_{n} + f(x_n)}{m} \\\\\n",
    "\n",
    "x_{n+1} = x_{n} + \\frac{f(x_n)}{m} \\\\\n",
    "\n",
    "m = f'(x_n) \\\\\n",
    "\n",
    "\\implies x_{n+1} = x_{n} + \\frac{f(x_n)}{f'(x_n)}\n",
    "\n",
    "\\end{gather*}"
   ]
  },
  {
   "attachments": {},
   "cell_type": "markdown",
   "metadata": {},
   "source": [
    "# Problem 5"
   ]
  },
  {
   "cell_type": "code",
   "execution_count": 10,
   "metadata": {},
   "outputs": [
    {
     "data": {
      "text/plain": [
       "[0.9078585524534872,\n",
       " 0.9095675068671815,\n",
       " 0.9099168937459948,\n",
       " 0.9099888384861002,\n",
       " 0.9100036976486471]"
      ]
     },
     "execution_count": 10,
     "metadata": {},
     "output_type": "execute_result"
    }
   ],
   "source": [
    "import numpy as np\n",
    "from icecream import ic\n",
    "\n",
    "# aitken's method\n",
    "# return: new sequence based on input sequence\n",
    "# input: sequence\n",
    "def p_hat(func, p0):\n",
    "    p1 = func(p0)\n",
    "    p2 = func(p1)\n",
    "    return p0 - ((p1 - p0)**2 / (p2 -2*p1 + p0))\n",
    "\n",
    "# aitken method iterative process\n",
    "def aitken(func, p0, n = 100):\n",
    "    # result list\n",
    "    res = list()\n",
    "    for i in range(n):\n",
    "        res.append(p_hat(func,p0))\n",
    "        p0 = func(p0)\n",
    "    return res\n",
    "\n",
    "# write out the function\n",
    "func1 = lambda x: (np.exp(x)/3)**(1/2)\n",
    "\n",
    "# run aitken 5 times\n",
    "aitken(func1, 0.75, 5)"
   ]
  }
 ],
 "metadata": {
  "kernelspec": {
   "display_name": "Python 3",
   "language": "python",
   "name": "python3"
  },
  "language_info": {
   "codemirror_mode": {
    "name": "ipython",
    "version": 3
   },
   "file_extension": ".py",
   "mimetype": "text/x-python",
   "name": "python",
   "nbconvert_exporter": "python",
   "pygments_lexer": "ipython3",
   "version": "3.10.11"
  },
  "orig_nbformat": 4
 },
 "nbformat": 4,
 "nbformat_minor": 2
}
