{
 "cells": [
  {
   "attachments": {},
   "cell_type": "markdown",
   "metadata": {},
   "source": [
    "# Problem 6"
   ]
  },
  {
   "cell_type": "code",
   "execution_count": 2,
   "metadata": {},
   "outputs": [
    {
     "name": "stdout",
     "output_type": "stream",
     "text": [
      "Program ran 35 iterations\n",
      "Bisection Method:  -0.7390851332456805\n",
      "Program ran max iterations:  100\n",
      "Newton's Method:  -3.077794677060962e+137\n",
      "Program ran  13  iterations\n",
      "Secant Method:  -0.7390851332151606\n"
     ]
    }
   ],
   "source": [
    "import numpy as np\n",
    "\n",
    "# condition to stop loop: reach counter number or until f(midpoint) = 0\n",
    "# default loop amount is 100\n",
    "def bisec(func, a, b, c = 100, tol = 0):\n",
    "    i = 0\n",
    "    mid = (a + b) / 2\n",
    "    # if iteration is not maxed, and midpoint not found and\n",
    "    # difference is over tolerance amount\n",
    "    while(i != c and func(mid) != 0 and abs(func(mid)) - 0 > tol):\n",
    "\n",
    "        mid = (a + b) / 2\n",
    "\n",
    "        # if func(mid) is negative and func(a) is negative OR \n",
    "        # func(mid) is + and func(a) is +, then [mid,b]\n",
    "\n",
    "        # if f(mid) and f(a) have same sign,\n",
    "        if((func(mid) < 0 and func(a) < 0) or (func(mid) > 0 and func(a) > 0)):\n",
    "            a = mid\n",
    "        # else, f(mid) and f(b) have same sign\n",
    "        else:\n",
    "            b = mid\n",
    "\n",
    "        # increment i\n",
    "        i += 1\n",
    "    \n",
    "    # print iteration amount\n",
    "    if(i == c):\n",
    "        print(\"Program ran inputted iterations:\", i)\n",
    "    else:\n",
    "        print(\"Program ran\", i, \"iterations\")\n",
    "    # result\n",
    "    return mid\n",
    "\n",
    "\n",
    "# newton method\n",
    "# return: p1\n",
    "# input: function, p0, max iteration, tol\n",
    "def newton(func, p0, first_deriv, n = 100, tol = 0):\n",
    "    # bc p0 and p1 were found\n",
    "    i = 1\n",
    "    q0 = func(p0)\n",
    "    f0 = first_deriv(p0)\n",
    "    p1 = p0 - (q0 / f0)\n",
    "    # while diff > tol and i < n\n",
    "    while(abs(p1 - p0) > tol and i < n):\n",
    "        p0 = p1\n",
    "        q0 = func(p0)\n",
    "        p1 = p0 - (q0 / f0)\n",
    "        i += 1\n",
    "    if(i >= n):\n",
    "        print(\"Program ran max iterations: \", i)\n",
    "    else:\n",
    "        print(\"Program ran \", i, \" iterations\")\n",
    "\n",
    "    # return p1\n",
    "    return p1\n",
    "\n",
    "    # secant-newton method\n",
    "# return: p2\n",
    "# input: function, p0, p1, max iteration, tol\n",
    "def secant_newton(func, p0, p1, n = 100, tol = 0):\n",
    "    # bc p0 and p1 were found\n",
    "    i = 2\n",
    "    q0 = func(p0)\n",
    "    q1 = func(p1)\n",
    "    p2 = p1 - ((q1 * (p1 - p0)) / (q1 - q0))\n",
    "    # while diff > tol and i < n\n",
    "    while(abs(p2 - p1) > tol and i < n):\n",
    "        p0 = p1\n",
    "        p1 = p2 \n",
    "        p2 = p1 - ((q1 * (p1 - p0)) / (q1 - q0))\n",
    "        q0 = q1\n",
    "        q1 = func(p2)\n",
    "        i += 1\n",
    "    if(i >= n):\n",
    "        print(\"Program ran max iterations: \", i)\n",
    "    else:\n",
    "        print(\"Program ran \", i, \" iterations\")\n",
    "\n",
    "    # return p2\n",
    "    return p2\n",
    "\n",
    "# function\n",
    "func1 = lambda x: x + np.cos(x)\n",
    "func1_deriv = lambda x: 1 - np.sin(x)\n",
    "\n",
    "# run all methods\n",
    "print(\"Bisection Method: \", bisec(func1, -5, 5, tol = 10**(-10)))\n",
    "print(\"Newton's Method: \", newton(func1, -5, func1_deriv, tol = 10**(-10)))\n",
    "print(\"Secant Method: \", secant_newton(func1, -5, 5, tol = 10**(-10)))"
   ]
  },
  {
   "attachments": {},
   "cell_type": "markdown",
   "metadata": {},
   "source": [
    "Based on the output, the ranking for the least to most number of iterations to achieve the desired tolerance would be:\n",
    "\n",
    "1. Secant \n",
    "2. Bisection\n",
    "3. Newton"
   ]
  }
 ],
 "metadata": {
  "kernelspec": {
   "display_name": "Python 3",
   "language": "python",
   "name": "python3"
  },
  "language_info": {
   "codemirror_mode": {
    "name": "ipython",
    "version": 3
   },
   "file_extension": ".py",
   "mimetype": "text/x-python",
   "name": "python",
   "nbconvert_exporter": "python",
   "pygments_lexer": "ipython3",
   "version": "3.10.11"
  },
  "orig_nbformat": 4
 },
 "nbformat": 4,
 "nbformat_minor": 2
}
