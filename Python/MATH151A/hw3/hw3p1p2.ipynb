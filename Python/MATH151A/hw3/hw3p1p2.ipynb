{
 "cells": [
  {
   "attachments": {},
   "cell_type": "markdown",
   "metadata": {},
   "source": [
    "# <center> Homework 3\n",
    "<center> Luke Villanueva \\\\ MATH151A \\\\ 5/2/23"
   ]
  },
  {
   "attachments": {},
   "cell_type": "markdown",
   "metadata": {},
   "source": [
    "# Problem 1"
   ]
  },
  {
   "cell_type": "code",
   "execution_count": 3,
   "metadata": {},
   "outputs": [
    {
     "name": "stdout",
     "output_type": "stream",
     "text": [
      "Program ran  19  iterations\n"
     ]
    },
    {
     "data": {
      "text/plain": [
       "-0.8654740331016144"
      ]
     },
     "execution_count": 3,
     "metadata": {},
     "output_type": "execute_result"
    }
   ],
   "source": [
    "import numpy as np\n",
    "from icecream import ic\n",
    "\n",
    "# secant-newton method\n",
    "# return: p2\n",
    "# input: function, p0, p1, max iteration, tol\n",
    "def secant_newton(func, p0, p1, n = 100, tol = 0):\n",
    "    # bc p0 and p1 were found\n",
    "    i = 2\n",
    "    q0 = func(p0)\n",
    "    q1 = func(p1)\n",
    "    p2 = p1 - ((q1 * (p1 - p0)) / (q1 - q0))\n",
    "    # while diff > tol and i < n\n",
    "    while(abs(p2 - p1) > tol and i < n):\n",
    "        p0 = p1\n",
    "        p1 = p2 \n",
    "        p2 = p1 - ((q1 * (p1 - p0)) / (q1 - q0))\n",
    "        q0 = q1\n",
    "        q1 = func(p2)\n",
    "        i += 1\n",
    "    if(i >= n):\n",
    "        print(\"Program ran max iterations: \", i)\n",
    "    else:\n",
    "        print(\"Program ran \", i, \" iterations\")\n",
    "\n",
    "    # return p2\n",
    "    return p2\n",
    "\n",
    "\n",
    "# function\n",
    "def func1(x):\n",
    "    return -(x**3) - np.cos(x)\n",
    "\n",
    "# run program\n",
    "secant_newton(func1, -1, 0, 30)\n",
    "        "
   ]
  },
  {
   "attachments": {},
   "cell_type": "markdown",
   "metadata": {},
   "source": [
    "The root finding algorithm finished in 19 iterations, resulting around -0.8654. This is a local root around the givens $p_0$ and $p_1$. This means that $f(-0.8654) \\approx 0$."
   ]
  },
  {
   "attachments": {},
   "cell_type": "markdown",
   "metadata": {},
   "source": [
    "# Problem 2\n",
    "\n",
    "Based on theorems, if the derivative of the function at point $p$ is also zero, then it implies that the convergence rate will be at most linear. If not equal to zero, then the rate will be at least quadratic.\n",
    "\n",
    "In particular, $f(x) = x^2(x-1) \\implies f'(x) = 3x^2 - 2x$. So, if there was a point $p$ such that $f(p) = 0 \\implies p^2(p-1) = 0$, then if $f'(p) = 0 \\implies 3p^2 - 2p = 0$, then the function converges at most linearly. If not, then it at least converges quadratically."
   ]
  }
 ],
 "metadata": {
  "kernelspec": {
   "display_name": "Python 3",
   "language": "python",
   "name": "python3"
  },
  "language_info": {
   "codemirror_mode": {
    "name": "ipython",
    "version": 3
   },
   "file_extension": ".py",
   "mimetype": "text/x-python",
   "name": "python",
   "nbconvert_exporter": "python",
   "pygments_lexer": "ipython3",
   "version": "3.10.11"
  },
  "orig_nbformat": 4
 },
 "nbformat": 4,
 "nbformat_minor": 2
}
