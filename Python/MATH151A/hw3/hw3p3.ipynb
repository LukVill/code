{
 "cells": [
  {
   "attachments": {},
   "cell_type": "markdown",
   "metadata": {},
   "source": [
    "# Problem 3"
   ]
  },
  {
   "attachments": {},
   "cell_type": "markdown",
   "metadata": {},
   "source": [
    "Given $f(x) = e^x - 1 - x -\\frac{x^2}{2}$,\n",
    "\n",
    "x = 0 is a zero via the following:\n",
    "\n",
    "\\begin{gather*}\n",
    "\n",
    "e^0 - 1 - 0 - \\frac{0^2}{2} \\\\\n",
    "\n",
    "\\implies 1 - 1 - 0 - 0 = 0\n",
    "\n",
    "\\end{gather*}\n",
    "\n",
    "\n",
    "For multiplicity, we need the derivatives.\n",
    "\n",
    "\\begin{gather*}\n",
    "\n",
    "f(x) = e^x - 1 - x -\\frac{x^2}{2} \\\\\n",
    "f'(x) = e^x - 1 - x \\\\\n",
    "f''(x) = e^x - 2 \\\\\n",
    "\\newline\n",
    "f(0) = 0 \\\\\n",
    "f'(0) = 0 \\\\\n",
    "f''(x) = 1 - 2 = -1\n",
    "\n",
    "\\end{gather*}\n",
    "\n",
    "This implies that the root multiplicity of the function is 2.\n",
    "\n"
   ]
  },
  {
   "cell_type": "code",
   "execution_count": 13,
   "metadata": {},
   "outputs": [
    {
     "name": "stdout",
     "output_type": "stream",
     "text": [
      "Program ran  141412  iterations\n",
      "Modified Newton:  1.414209775660993e-05\n",
      "Program ran max iterations:  200000\n",
      "Newton:  0.0032796387605558263\n"
     ]
    }
   ],
   "source": [
    "import numpy as np\n",
    "\n",
    "# modified Newton's method (root multiplicity proof method)\n",
    "# ASSUMES FUNC IS IN SYMPY FORMAT\n",
    "def multiplicity_newton(func, p0, f_deriv, s_deriv, n = 100, tol = 0):\n",
    "    # bc p0 and p1 were found\n",
    "    i = 1\n",
    "    q0 = func(p0)\n",
    "    f0 = f_deriv(p0)\n",
    "    s0 = s_deriv(p0)\n",
    "    p1 = p0 - ((q0 * f0) / (f0**2 - q0 * s0))\n",
    "    # while diff > tol and i < n\n",
    "    while(abs(p1 - p0) > tol and i < n):\n",
    "        p0 = p1\n",
    "        q0 = func(p0)\n",
    "        f0 = f_deriv(p0)\n",
    "        s0 = s_deriv(p0)\n",
    "        p1 = p0 - ((q0 * f0) / (f0**2 - q0 * s0))\n",
    "        i += 1\n",
    "    if(i >= n):\n",
    "        print(\"Program ran max iterations: \", i)\n",
    "    else:\n",
    "        print(\"Program ran \", i, \" iterations\")\n",
    "\n",
    "    # return p2\n",
    "    return p1\n",
    "\n",
    "\n",
    "# newton method\n",
    "# return: p1\n",
    "# input: function, p0, max iteration, tol\n",
    "def newton(func, p0, first_deriv, n = 100, tol = 0):\n",
    "    # bc p0 and p1 were found\n",
    "    i = 1\n",
    "    q0 = func(p0)\n",
    "    f0 = first_deriv(p0)\n",
    "    p1 = p0 - (q0 / f0)\n",
    "    # while diff > tol and i < n\n",
    "    while(abs(p1 - p0) > tol and i < n):\n",
    "        p0 = p1\n",
    "        q0 = func(p0)\n",
    "        p1 = p0 - (q0 / f0)\n",
    "        i += 1\n",
    "    if(i >= n):\n",
    "        print(\"Program ran max iterations: \", i)\n",
    "    else:\n",
    "        print(\"Program ran \", i, \" iterations\")\n",
    "\n",
    "    # return p1\n",
    "    return p1\n",
    "\n",
    "# usual newton f(x)\n",
    "func1 = lambda x: np.exp(x) - 1 -x - (x**2 / 2)\n",
    "func1_deriv1 = lambda x: np.exp(x) - 1 - x\n",
    "func1_deriv2 = lambda x: np.exp(x) - 2\n",
    "\n",
    "# set initial guess\n",
    "x0 = 1\n",
    "\n",
    "# modified newton\n",
    "print(\"Modified Newton: \", multiplicity_newton(func1, x0, func1_deriv1, func1_deriv2, n = 200000, tol = 10**(-10)))\n",
    "\n",
    "# usual newton\n",
    "print(\"Newton: \", newton(func1, x0, func1_deriv1, n = 200000, tol = 10**(-10)))"
   ]
  },
  {
   "attachments": {},
   "cell_type": "markdown",
   "metadata": {},
   "source": [
    "Using a 200,000 iteration max with a $10^{-10}$ tolerance, the modified Newton method converged with 141,412 iterations while the usual Newton method failed to converge within the max iteration amount. \n",
    "\n",
    "This is due to the fact that the given function has a root multiplicity of 2. This implies that there would be roundoff errors while computing the next term while using the usual Newton method.\n",
    "\n",
    "Using the modified method requires a second derivative, but it does prevent the extra roundoff errors."
   ]
  }
 ],
 "metadata": {
  "kernelspec": {
   "display_name": "Python 3",
   "language": "python",
   "name": "python3"
  },
  "language_info": {
   "codemirror_mode": {
    "name": "ipython",
    "version": 3
   },
   "file_extension": ".py",
   "mimetype": "text/x-python",
   "name": "python",
   "nbconvert_exporter": "python",
   "pygments_lexer": "ipython3",
   "version": "3.10.11"
  },
  "orig_nbformat": 4
 },
 "nbformat": 4,
 "nbformat_minor": 2
}
