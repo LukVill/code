{
 "cells": [
  {
   "attachments": {},
   "cell_type": "markdown",
   "metadata": {},
   "source": [
    "# Problem 2\n",
    "If $n \\rightarrow \\infty$, then $\\frac{1}{n} \\rightarrow 0$. This implies that $sin(\\frac{1}{n}) \\rightarrow sin(0) = 0$. So, as $n \\rightarrow \\infty, sin(\\frac{1}{n}) \\rightarrow 0$.\n",
    "\n",
    "Since the expansion of $sin(n) = n - \\frac{sin(\\varepsilon)}{2}x^2$ (where $\\varepsilon \\in (n,\\infty)$), then $sin(\\frac{1}{n}) = \\frac{1}{n} - \\frac{sin(\\frac{1}{\\varepsilon})}{2}\\frac{1}{n^2}$.\n",
    "\n",
    "Summation of terms in sequence will be less than $\\frac{1}{n}$, so $\\implies sin(\\frac{1}{n}) \\leq \\frac{1}{n}$. And so, $ | sin(\\frac{1}{n}) - 0 | = O(\\frac{1}{n})$.\n",
    "\n",
    "So, the rate of convergence of $sin(\\frac{1}{n})$ is $O(\\frac{1}{n})$.\n",
    "\n",
    "<div style=”page-break-after: always;”></div>"
   ]
  },
  {
   "attachments": {},
   "cell_type": "markdown",
   "metadata": {},
   "source": [
    "# Problem 3\n",
    "\n",
    "To get the number of iterations, we know that:\n",
    "\n",
    "\\begin{gather*}\n",
    "\n",
    "| P_{n} - P | \\leq \\frac{b-a}{2^n}\n",
    "\n",
    "\\end{gather*}\n",
    "\n",
    "And so if the tolerance accuracy is $10^{-3}$,\n",
    "\n",
    "\\begin{gather*}\n",
    "\n",
    "\\frac{b-a}{2^n} \\implies \\frac{4-1}{2^n} = 10^{-3} \\\\\n",
    "\\frac{3}{2^n} = 10^{-3} \\\\\n",
    "3000 = 2^n \\\\\n",
    "\\ln{3000} = n \\ln{2} \\\\\n",
    "n = \\frac{\\ln{3000}}{\\ln{2}} \\approx 11.55 \\implies 12 \\text{ iterations}\n",
    "\n",
    "\\end{gather*}\n"
   ]
  },
  {
   "cell_type": "code",
   "execution_count": null,
   "metadata": {},
   "outputs": [
    {
     "ename": "",
     "evalue": "",
     "output_type": "error",
     "traceback": [
      "\u001b[1;31mRunning cells with 'c:\\Users\\Luke Villanueva\\AppData\\Local\\Microsoft\\WindowsApps\\python3.10.exe' requires the ipykernel package.\n",
      "\u001b[1;31mRun the following command to install 'ipykernel' into the Python environment. \n",
      "\u001b[1;31mCommand: '\"c:/Users/Luke Villanueva/AppData/Local/Microsoft/WindowsApps/python3.10.exe\" -m pip install ipykernel -U --user --force-reinstall'"
     ]
    }
   ],
   "source": [
    "# condition to stop loop: reach counter number or until f(midpoint) = 0\n",
    "# default loop amount is 100\n",
    "def bisec(func, a, b, c = 100, tol = 0):\n",
    "    i = 0\n",
    "    mid = (a + b) / 2\n",
    "    # if iteration is not maxed, and midpoint not found and\n",
    "    # difference is over tolerance amount\n",
    "    while(i != c and func(mid) != 0 and abs(func(mid)) - 0 > tol):\n",
    "\n",
    "        mid = (a + b) / 2\n",
    "\n",
    "        # if func(mid) is negative and func(a) is negative OR \n",
    "        # func(mid) is + and func(a) is +, then [mid,b]\n",
    "\n",
    "        # if f(mid) and f(a) have same sign,\n",
    "        if((func(mid) < 0 and func(a) < 0) or (func(mid) > 0 and func(a) > 0)):\n",
    "            a = mid\n",
    "        # else, f(mid) and f(b) have same sign\n",
    "        else:\n",
    "            b = mid\n",
    "\n",
    "        # increment i\n",
    "        i += 1\n",
    "    \n",
    "    # print iteration amount\n",
    "    if(i == c):\n",
    "        print(\"Program ran inputted iterations:\", i)\n",
    "    else:\n",
    "        print(\"Program ran\", i, \"iterations\")\n",
    "    # result\n",
    "    return mid\n",
    "\n",
    "def testFunc(x):\n",
    "    return x**3 + x - 4\n",
    "\n",
    "print(bisec(testFunc, 1, 4, tol = 10**-3))"
   ]
  },
  {
   "attachments": {},
   "cell_type": "markdown",
   "metadata": {},
   "source": [
    "12 iterations were needed for the required accuracy.\n",
    "\n",
    "<div style=”page-break-after: always;”></div>"
   ]
  }
 ],
 "metadata": {
  "kernelspec": {
   "display_name": "Python 3",
   "language": "python",
   "name": "python3"
  },
  "language_info": {
   "name": "python",
   "version": "3.10.11"
  },
  "orig_nbformat": 4
 },
 "nbformat": 4,
 "nbformat_minor": 2
}
