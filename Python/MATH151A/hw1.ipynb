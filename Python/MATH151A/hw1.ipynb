{
 "cells": [
  {
   "attachments": {},
   "cell_type": "markdown",
   "metadata": {},
   "source": [
    "# <center> Homework 1\n",
    "<center> Luke Villanueva \\\\ MATH151A \\\\ 4/11/23"
   ]
  },
  {
   "attachments": {},
   "cell_type": "markdown",
   "metadata": {},
   "source": [
    "# Table of Contents\n",
    "---\n",
    "## "
   ]
  },
  {
   "attachments": {},
   "cell_type": "markdown",
   "metadata": {},
   "source": [
    "# Problem 1\n",
    "## a.\n",
    "The Intermediate Value Theorem says that given a continuous function and an interval, then if you give me any number, I can plug that number into the function and I can give you a result that will always be bounded within a certain distance. That distance will be the interval plugged into the function.\n",
    "\n",
    "## b."
   ]
  },
  {
   "cell_type": "code",
   "execution_count": 11,
   "metadata": {},
   "outputs": [
    {
     "name": "stdout",
     "output_type": "stream",
     "text": [
      "Help on ufunc:\n",
      "\n",
      "cos = <ufunc 'cos'>\n",
      "    cos(x, /, out=None, *, where=True, casting='same_kind', order='K', dtype=None, subok=True[, signature, extobj])\n",
      "    \n",
      "    Cosine element-wise.\n",
      "    \n",
      "    Parameters\n",
      "    ----------\n",
      "    x : array_like\n",
      "        Input array in radians.\n",
      "    out : ndarray, None, or tuple of ndarray and None, optional\n",
      "        A location into which the result is stored. If provided, it must have\n",
      "        a shape that the inputs broadcast to. If not provided or None,\n",
      "        a freshly-allocated array is returned. A tuple (possible only as a\n",
      "        keyword argument) must have length equal to the number of outputs.\n",
      "    where : array_like, optional\n",
      "        This condition is broadcast over the input. At locations where the\n",
      "        condition is True, the `out` array will be set to the ufunc result.\n",
      "        Elsewhere, the `out` array will retain its original value.\n",
      "        Note that if an uninitialized `out` array is created via the default\n",
      "        ``out=None``, locations within it where the condition is False will\n",
      "        remain uninitialized.\n",
      "    **kwargs\n",
      "        For other keyword-only arguments, see the\n",
      "        :ref:`ufunc docs <ufuncs.kwargs>`.\n",
      "    \n",
      "    Returns\n",
      "    -------\n",
      "    y : ndarray\n",
      "        The corresponding cosine values.\n",
      "        This is a scalar if `x` is a scalar.\n",
      "    \n",
      "    Notes\n",
      "    -----\n",
      "    If `out` is provided, the function writes the result into it,\n",
      "    and returns a reference to `out`.  (See Examples)\n",
      "    \n",
      "    References\n",
      "    ----------\n",
      "    M. Abramowitz and I. A. Stegun, Handbook of Mathematical Functions.\n",
      "    New York, NY: Dover, 1972.\n",
      "    \n",
      "    Examples\n",
      "    --------\n",
      "    >>> np.cos(np.array([0, np.pi/2, np.pi]))\n",
      "    array([  1.00000000e+00,   6.12303177e-17,  -1.00000000e+00])\n",
      "    >>>\n",
      "    >>> # Example of providing the optional output parameter\n",
      "    >>> out1 = np.array([0], dtype='d')\n",
      "    >>> out2 = np.cos([0.1], out1)\n",
      "    >>> out2 is out1\n",
      "    True\n",
      "    >>>\n",
      "    >>> # Example of ValueError due to provision of shape mis-matched `out`\n",
      "    >>> np.cos(np.zeros((3,3)),np.zeros((2,2)))\n",
      "    Traceback (most recent call last):\n",
      "      File \"<stdin>\", line 1, in <module>\n",
      "    ValueError: operands could not be broadcast together with shapes (3,3) (2,2)\n",
      "\n"
     ]
    }
   ],
   "source": [
    "import numpy as np\n",
    "\n",
    "# plug in interval into function\n",
    "x = 0.2\n",
    "y = 0.3 \n",
    "help(np.cos)"
   ]
  }
 ],
 "metadata": {
  "kernelspec": {
   "display_name": "Python 3",
   "language": "python",
   "name": "python3"
  },
  "language_info": {
   "codemirror_mode": {
    "name": "ipython",
    "version": 3
   },
   "file_extension": ".py",
   "mimetype": "text/x-python",
   "name": "python",
   "nbconvert_exporter": "python",
   "pygments_lexer": "ipython3",
   "version": "3.10.11"
  },
  "orig_nbformat": 4
 },
 "nbformat": 4,
 "nbformat_minor": 2
}
