{
 "cells": [
  {
   "attachments": {},
   "cell_type": "markdown",
   "metadata": {},
   "source": [
    "# <center> Homework 1\n",
    "<center> Luke Villanueva \\\\ MATH151A \\\\ 4/11/23"
   ]
  },
  {
   "attachments": {},
   "cell_type": "markdown",
   "metadata": {},
   "source": [
    "# Table of Contents\n",
    "---\n",
    "* [Problem 1](#problem-1)\n",
    "* [Problem 2](#problem-2)"
   ]
  },
  {
   "cell_type": "code",
   "execution_count": 115,
   "metadata": {},
   "outputs": [],
   "source": [
    "# imported libraries\n",
    "import numpy as np\n",
    "from icecream import ic\n",
    "import sympy as sym"
   ]
  },
  {
   "attachments": {},
   "cell_type": "markdown",
   "metadata": {},
   "source": [
    "# Problem 1\n",
    "## a.\n",
    "The Intermediate Value Theorem says that given a continuous function and an interval, then if you give me any number, I can plug that number into the function and I can give you a result that will always be bounded within a certain distance. That said distance will be the interval plugged into the function. For example, if $f(1) = 2$ and $f(3) = 4$, then there is some value $c$ between 1 and 3 such that $f(c) = 3$.\n",
    "\n",
    "## b."
   ]
  },
  {
   "cell_type": "code",
   "execution_count": 116,
   "metadata": {},
   "outputs": [
    {
     "name": "stdout",
     "output_type": "stream",
     "text": [
      "-0.28398668443175157\n",
      "0.0066009467376817454\n"
     ]
    }
   ],
   "source": [
    "# plug in interval into function\n",
    "x = 0.2 \n",
    "y = 0.3 \n",
    "\n",
    "# equation\n",
    "def func(x):\n",
    "    return x * np.cos(x) - 2 * x**2 + 3 * x - 1\n",
    "\n",
    "# get results of intervals\n",
    "print(func(x))\n",
    "print(func(y))"
   ]
  },
  {
   "attachments": {},
   "cell_type": "markdown",
   "metadata": {},
   "source": [
    "And so, based on these results, because the left bound of the range is negative and the right is positive, we can use the IVT to conclue that there should exist a value $c$ such that $f(c) = 0$. And so, there is a solution to the given non-linear equation."
   ]
  },
  {
   "attachments": {},
   "cell_type": "markdown",
   "metadata": {},
   "source": [
    "# Problem 2\n",
    "\n",
    "Taylor Formula: $\\sum_{0}^{\\infty} \\frac{f^{(n)}}{n!}(x-a)^{n}$ "
   ]
  },
  {
   "cell_type": "code",
   "execution_count": 127,
   "metadata": {},
   "outputs": [
    {
     "data": {
      "text/latex": [
       "$\\displaystyle \\frac{1}{2 \\sqrt{x + 1}}$"
      ],
      "text/plain": [
       "     1     \n",
       "───────────\n",
       "    _______\n",
       "2⋅╲╱ x + 1 "
      ]
     },
     "execution_count": 127,
     "metadata": {},
     "output_type": "execute_result"
    }
   ],
   "source": [
    "x = sym.symbols(\"x\")\n",
    "sym.init_printing()\n",
    "f1 = sym.sqrt(x+1)\n",
    "f2 = sym.diff(f1)\n",
    "f3 = sym.diff(f2)\n",
    "f4 = sym.diff(f3)\n",
    "f1"
   ]
  },
  {
   "cell_type": "code",
   "execution_count": 126,
   "metadata": {},
   "outputs": [
    {
     "data": {
      "text/latex": [
       "$\\displaystyle \\frac{1}{2 \\sqrt{x + 1}}$"
      ],
      "text/plain": [
       "     1     \n",
       "───────────\n",
       "    _______\n",
       "2⋅╲╱ x + 1 "
      ]
     },
     "execution_count": 126,
     "metadata": {},
     "output_type": "execute_result"
    }
   ],
   "source": [
    "f2"
   ]
  },
  {
   "cell_type": "code",
   "execution_count": 128,
   "metadata": {},
   "outputs": [
    {
     "data": {
      "text/latex": [
       "$\\displaystyle - \\frac{1}{4 \\left(x + 1\\right)^{\\frac{3}{2}}}$"
      ],
      "text/plain": [
       "    -1      \n",
       "────────────\n",
       "         3/2\n",
       "4⋅(x + 1)   "
      ]
     },
     "execution_count": 128,
     "metadata": {},
     "output_type": "execute_result"
    }
   ],
   "source": [
    "f3"
   ]
  },
  {
   "cell_type": "code",
   "execution_count": 136,
   "metadata": {},
   "outputs": [
    {
     "data": {
      "text/latex": [
       "$\\displaystyle \\frac{3}{8 \\left(x + 1\\right)^{\\frac{5}{2}}}$"
      ],
      "text/plain": [
       "     3      \n",
       "────────────\n",
       "         5/2\n",
       "8⋅(x + 1)   "
      ]
     },
     "execution_count": 136,
     "metadata": {},
     "output_type": "execute_result"
    }
   ],
   "source": [
    "f4"
   ]
  },
  {
   "attachments": {},
   "cell_type": "markdown",
   "metadata": {},
   "source": [
    "And so, the function's derivatives are:\n",
    "\n",
    "$f(x) = \\sqrt{x + 1}$  \n",
    "$f'(x) = \\frac{1}{2\\sqrt{(x+1)}}$  \n",
    "$f''(x) = \\frac{-1}{4(x+1)^{\\frac{3}{2}}}$  \n",
    "$f'''(x) = \\frac{3}{8(x+1)^{\\frac{5}{2}}}$ \n",
    "\n",
    "If $a = 0$, the evaluated Taylor polynomial to when $n = 3$ is,\n",
    "\n",
    "$P_{3}(0) = 1 + \\frac{x}{2} - \\frac{x^{2}}{8} + \\frac{x^{3}}{16}$"
   ]
  },
  {
   "cell_type": "code",
   "execution_count": 138,
   "metadata": {},
   "outputs": [
    {
     "data": {
      "text/latex": [
       "$\\displaystyle 0.7109375$"
      ],
      "text/plain": [
       "0.7109375"
      ]
     },
     "execution_count": 138,
     "metadata": {},
     "output_type": "execute_result"
    }
   ],
   "source": [
    "# making function to approximate any x\n",
    "def taylor_poly(x):\n",
    "    return 1 + x/2 - (x**2)/8 + (x**3)/16\n",
    "\n",
    "# approximating sqrt(0.5) -> x = -0.5\n",
    "taylor_poly(-0.5)"
   ]
  },
  {
   "cell_type": "code",
   "execution_count": 139,
   "metadata": {},
   "outputs": [
    {
     "data": {
      "text/latex": [
       "$\\displaystyle 0.8662109375$"
      ],
      "text/plain": [
       "0.8662109375"
      ]
     },
     "execution_count": 139,
     "metadata": {},
     "output_type": "execute_result"
    }
   ],
   "source": [
    "# approximating sqrt(0.75) -> x = -0.25\n",
    "taylor_poly(-0.25)"
   ]
  },
  {
   "cell_type": "code",
   "execution_count": 140,
   "metadata": {},
   "outputs": [
    {
     "data": {
      "text/latex": [
       "$\\displaystyle 1.1181640625$"
      ],
      "text/plain": [
       "1.1181640625"
      ]
     },
     "execution_count": 140,
     "metadata": {},
     "output_type": "execute_result"
    }
   ],
   "source": [
    "# approximating sqrt(1.25) -> x = 0.25\n",
    "taylor_poly(0.25)"
   ]
  },
  {
   "cell_type": "code",
   "execution_count": 141,
   "metadata": {},
   "outputs": [
    {
     "data": {
      "text/latex": [
       "$\\displaystyle 1.2265625$"
      ],
      "text/plain": [
       "1.2265625"
      ]
     },
     "execution_count": 141,
     "metadata": {},
     "output_type": "execute_result"
    }
   ],
   "source": [
    "# approximating sqrt(1.5) -> x = 0.5\n",
    "taylor_poly(0.5)"
   ]
  },
  {
   "cell_type": "code",
   "execution_count": 144,
   "metadata": {},
   "outputs": [
    {
     "data": {
      "text/latex": [
       "$\\displaystyle 0.00383071881345243$"
      ],
      "text/plain": [
       "0.00383071881345243"
      ]
     },
     "execution_count": 144,
     "metadata": {},
     "output_type": "execute_result"
    }
   ],
   "source": [
    "# calculate absolute error of sqrt(0.5)\n",
    "abs(sqrt(0.5) - taylor_poly(-0.5))"
   ]
  }
 ],
 "metadata": {
  "kernelspec": {
   "display_name": "Python 3",
   "language": "python",
   "name": "python3"
  },
  "language_info": {
   "codemirror_mode": {
    "name": "ipython",
    "version": 3
   },
   "file_extension": ".py",
   "mimetype": "text/x-python",
   "name": "python",
   "nbconvert_exporter": "python",
   "pygments_lexer": "ipython3",
   "version": "3.10.11"
  },
  "orig_nbformat": 4
 },
 "nbformat": 4,
 "nbformat_minor": 2
}
