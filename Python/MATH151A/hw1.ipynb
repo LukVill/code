{
 "cells": [
  {
   "attachments": {},
   "cell_type": "markdown",
   "metadata": {},
   "source": [
    "# <center> Homework 1\n",
    "<center> Luke Villanueva \\\\ MATH151A \\\\ 4/11/23"
   ]
  },
  {
   "attachments": {},
   "cell_type": "markdown",
   "metadata": {},
   "source": [
    "# Table of Contents\n",
    "---\n",
    "* [Problem 1](#problem-1)\n",
    "* [Problem 2](#problem-2)\n",
    "* [Problem 3](#problem-3)\n",
    "* [Problem 4](#problem-4)\n",
    "* [Problem 5](#problem-5)\n",
    "* [Coding Part](#coding-part)"
   ]
  },
  {
   "cell_type": "code",
   "execution_count": 61,
   "metadata": {},
   "outputs": [],
   "source": [
    "# imported libraries\n",
    "import numpy as np\n",
    "from icecream import ic\n",
    "import sympy as sym"
   ]
  },
  {
   "attachments": {},
   "cell_type": "markdown",
   "metadata": {},
   "source": [
    "# Problem 1\n",
    "## a.\n",
    "The Intermediate Value Theorem says that given a continuous function and an interval, then if you give me any number, I can plug that number into the function and I can give you a result that will always be bounded within a certain distance. That said distance will be the interval plugged into the function. For example, if $f(1) = 2$ and $f(3) = 4$, then there is some value $c$ between 1 and 3 such that $f(c) = 3$.\n",
    "\n",
    "## b."
   ]
  },
  {
   "cell_type": "code",
   "execution_count": 62,
   "metadata": {},
   "outputs": [
    {
     "name": "stdout",
     "output_type": "stream",
     "text": [
      "-0.28398668443175157\n",
      "0.0066009467376817454\n"
     ]
    }
   ],
   "source": [
    "# plug in interval into function\n",
    "x = 0.2 \n",
    "y = 0.3 \n",
    "\n",
    "# equation\n",
    "def func(x):\n",
    "    return x * np.cos(x) - 2 * x**2 + 3 * x - 1\n",
    "\n",
    "# get results of intervals\n",
    "print(func(x))\n",
    "print(func(y))"
   ]
  },
  {
   "attachments": {},
   "cell_type": "markdown",
   "metadata": {},
   "source": [
    "And so, based on these results, because the left bound of the range is negative and the right is positive, we can use the IVT to conclue that there should exist a value $c$ such that $f(c) = 0$. And so, there is a solution to the given non-linear equation."
   ]
  },
  {
   "attachments": {},
   "cell_type": "markdown",
   "metadata": {},
   "source": [
    "# Problem 2\n",
    "\n",
    "Taylor Formula: $\\sum_{n=0}^{\\infty} \\frac{f^{(n)}}{n!}(x-a)^{n}$ "
   ]
  },
  {
   "cell_type": "code",
   "execution_count": 63,
   "metadata": {},
   "outputs": [
    {
     "data": {
      "text/latex": [
       "$\\displaystyle \\sqrt{x + 1}$"
      ],
      "text/plain": [
       "  _______\n",
       "╲╱ x + 1 "
      ]
     },
     "execution_count": 63,
     "metadata": {},
     "output_type": "execute_result"
    }
   ],
   "source": [
    "x = sym.symbols(\"x\")\n",
    "sym.init_printing()\n",
    "f1 = sym.sqrt(x+1)\n",
    "f2 = sym.diff(f1)\n",
    "f3 = sym.diff(f2)\n",
    "f4 = sym.diff(f3)\n",
    "f1"
   ]
  },
  {
   "cell_type": "code",
   "execution_count": 64,
   "metadata": {},
   "outputs": [
    {
     "data": {
      "text/latex": [
       "$\\displaystyle \\frac{1}{2 \\sqrt{x + 1}}$"
      ],
      "text/plain": [
       "     1     \n",
       "───────────\n",
       "    _______\n",
       "2⋅╲╱ x + 1 "
      ]
     },
     "execution_count": 64,
     "metadata": {},
     "output_type": "execute_result"
    }
   ],
   "source": [
    "f2"
   ]
  },
  {
   "cell_type": "code",
   "execution_count": 65,
   "metadata": {},
   "outputs": [
    {
     "data": {
      "text/latex": [
       "$\\displaystyle - \\frac{1}{4 \\left(x + 1\\right)^{\\frac{3}{2}}}$"
      ],
      "text/plain": [
       "    -1      \n",
       "────────────\n",
       "         3/2\n",
       "4⋅(x + 1)   "
      ]
     },
     "execution_count": 65,
     "metadata": {},
     "output_type": "execute_result"
    }
   ],
   "source": [
    "f3"
   ]
  },
  {
   "cell_type": "code",
   "execution_count": 66,
   "metadata": {},
   "outputs": [
    {
     "data": {
      "text/latex": [
       "$\\displaystyle \\frac{3}{8 \\left(x + 1\\right)^{\\frac{5}{2}}}$"
      ],
      "text/plain": [
       "     3      \n",
       "────────────\n",
       "         5/2\n",
       "8⋅(x + 1)   "
      ]
     },
     "execution_count": 66,
     "metadata": {},
     "output_type": "execute_result"
    }
   ],
   "source": [
    "f4"
   ]
  },
  {
   "attachments": {},
   "cell_type": "markdown",
   "metadata": {},
   "source": [
    "And so, the function's derivatives are:\n",
    "\n",
    "$f(x) = \\sqrt{x + 1}$  \n",
    "$f'(x) = \\frac{1}{2\\sqrt{(x+1)}}$  \n",
    "$f''(x) = \\frac{-1}{4(x+1)^{\\frac{3}{2}}}$  \n",
    "$f'''(x) = \\frac{3}{8(x+1)^{\\frac{5}{2}}}$ \n",
    "\n",
    "If $a = 0$, the evaluated Taylor polynomial to when $n = 3$ is,\n",
    "\n",
    "$P_{3}(0) = 1 + \\frac{x}{2} - \\frac{x^{2}}{8} + \\frac{x^{3}}{16}$"
   ]
  },
  {
   "cell_type": "code",
   "execution_count": 67,
   "metadata": {},
   "outputs": [
    {
     "data": {
      "text/latex": [
       "$\\displaystyle 0.7109375$"
      ],
      "text/plain": [
       "0.7109375"
      ]
     },
     "execution_count": 67,
     "metadata": {},
     "output_type": "execute_result"
    }
   ],
   "source": [
    "# making function to approximate any x\n",
    "def taylor_poly(x):\n",
    "    return 1 + x/2 - (x**2)/8 + (x**3)/16\n",
    "\n",
    "# approximating sqrt(0.5) -> x = -0.5\n",
    "taylor_poly(-0.5)"
   ]
  },
  {
   "cell_type": "code",
   "execution_count": 68,
   "metadata": {},
   "outputs": [
    {
     "data": {
      "text/latex": [
       "$\\displaystyle 0.8662109375$"
      ],
      "text/plain": [
       "0.8662109375"
      ]
     },
     "execution_count": 68,
     "metadata": {},
     "output_type": "execute_result"
    }
   ],
   "source": [
    "# approximating sqrt(0.75) -> x = -0.25\n",
    "taylor_poly(-0.25)"
   ]
  },
  {
   "cell_type": "code",
   "execution_count": 69,
   "metadata": {},
   "outputs": [
    {
     "data": {
      "text/latex": [
       "$\\displaystyle 1.1181640625$"
      ],
      "text/plain": [
       "1.1181640625"
      ]
     },
     "execution_count": 69,
     "metadata": {},
     "output_type": "execute_result"
    }
   ],
   "source": [
    "# approximating sqrt(1.25) -> x = 0.25\n",
    "taylor_poly(0.25)"
   ]
  },
  {
   "cell_type": "code",
   "execution_count": 70,
   "metadata": {},
   "outputs": [
    {
     "data": {
      "text/latex": [
       "$\\displaystyle 1.2265625$"
      ],
      "text/plain": [
       "1.2265625"
      ]
     },
     "execution_count": 70,
     "metadata": {},
     "output_type": "execute_result"
    }
   ],
   "source": [
    "# approximating sqrt(1.5) -> x = 0.5\n",
    "taylor_poly(0.5)"
   ]
  },
  {
   "cell_type": "code",
   "execution_count": 71,
   "metadata": {},
   "outputs": [
    {
     "data": {
      "text/latex": [
       "$\\displaystyle 0.00383071881345243$"
      ],
      "text/plain": [
       "0.0038307188134524273"
      ]
     },
     "execution_count": 71,
     "metadata": {},
     "output_type": "execute_result"
    }
   ],
   "source": [
    "# calculate absolute error of sqrt(0.5)\n",
    "abs(np.sqrt(0.5) - taylor_poly(-0.5))"
   ]
  },
  {
   "cell_type": "code",
   "execution_count": 72,
   "metadata": {},
   "outputs": [
    {
     "data": {
      "text/latex": [
       "$\\displaystyle 0.000185533715561403$"
      ],
      "text/plain": [
       "0.0001855337155614034"
      ]
     },
     "execution_count": 72,
     "metadata": {},
     "output_type": "execute_result"
    }
   ],
   "source": [
    "# calculate absolute error of sqrt(0.75)\n",
    "abs(np.sqrt(0.75) - taylor_poly(-0.25))"
   ]
  },
  {
   "cell_type": "code",
   "execution_count": 73,
   "metadata": {},
   "outputs": [
    {
     "data": {
      "text/latex": [
       "$\\displaystyle 0.000130073750105097$"
      ],
      "text/plain": [
       "0.00013007375010509747"
      ]
     },
     "execution_count": 73,
     "metadata": {},
     "output_type": "execute_result"
    }
   ],
   "source": [
    "# calculate absolute error of sqrt(1.25)\n",
    "abs(np.sqrt(1.25) - taylor_poly(0.25))"
   ]
  },
  {
   "cell_type": "code",
   "execution_count": 74,
   "metadata": {},
   "outputs": [
    {
     "data": {
      "text/latex": [
       "$\\displaystyle 0.00181762860841106$"
      ],
      "text/plain": [
       "0.0018176286084110593"
      ]
     },
     "execution_count": 74,
     "metadata": {},
     "output_type": "execute_result"
    }
   ],
   "source": [
    "# calculate absolute error of sqrt(1.5)\n",
    "abs(np.sqrt(1.5) - taylor_poly(0.5))"
   ]
  },
  {
   "attachments": {},
   "cell_type": "markdown",
   "metadata": {},
   "source": [
    "# Problem 3\n",
    "## a.\n",
    "\n",
    "\\begin{gather*}\n",
    "0.101 * 10 (e^{1.53})^{4} - 0.462 * 10 (e^{1.53})^{3} - 0.311 * 10 (e^{1.53})^{2} + 0.122 * 10^{2} e^{1.53} - 0.199 * 10 \\newline\n",
    "\\implies\n",
    "\\newline\n",
    "0.101 * 10 (4.62)^{4} - 0.462 * 10 (4.62)^{3} - 0.311 * 10 (4.62)^{2} + 0.122 * 10^{2} * 4.62 - 0.199 * 10 \n",
    "\\newline\n",
    "\\implies\n",
    "\\newline\n",
    "0.101 * 10 * fl_{r}(455.5834) - 0.462 * 10 * fl_{r}(98.6111) - 0.311 * 10 * fl_{r}(21.3444) + 0.122 * 10^{2} * 0.462 * 10 - 0.199 * 10\n",
    "\\newline\n",
    "\\implies\n",
    "\\newline\n",
    "0.101 * 10 * fl_{r}(0.4555 * 10^{3}) - 0.462 * 10 * fl_{r}(0.9861 * 10^{2}) - 0.311 * 10 * fl_{r}(0.2134 * 10^{2}) + 0.122 * 10^{2} * 0.462 * 10 - 0.199 * 10\n",
    "\\newline\n",
    "\\implies\n",
    "\\newline\n",
    "0.101 * 10 * 0.456 * 10^{3} - 0.462 * 10 * 0.986 * 10^{2} - 0.311 * 10 * 0.213 * 10^{2} + 0.122 * 10^{2} * 0.462 * 10 - 0.199 * 10\n",
    "\\newline\n",
    "\\implies\n",
    "\\newline\n",
    "0.461 * 10^{3} - 0.456 * 10^{3} - 0.662 * 10^{2} + 0.564 * 10^{2} - 0.199 * 10\n",
    "\\newline\n",
    "\\implies\n",
    "\\newline\n",
    "0.5 * 10 - 0.98 * 10 - 0.199 * 10\n",
    "\\newline\n",
    "\\implies\n",
    "\\newline\n",
    "-0.679 * 10\n",
    "\\newline\n",
    "\\implies\n",
    "\\newline\n",
    "-6.79\n",
    "\\end{gather*}"
   ]
  },
  {
   "attachments": {},
   "cell_type": "markdown",
   "metadata": {},
   "source": [
    "## b. \n",
    "\n",
    "\\begin{gather*}\n",
    "f(x) = -1.99 + e^{x}(12.2 + e^{x}(-3.11 + e^{x}(-4.62 + 1.01e^{x})))\n",
    "\\end{gather*}"
   ]
  },
  {
   "attachments": {},
   "cell_type": "markdown",
   "metadata": {},
   "source": [
    "## c. \n",
    "\n",
    "\\begin{gather*}\n",
    "-1.99 + e^{1.53}(12.2 + e^{1.53}(-3.11 + e^{1.53}(-4.62 + 1.01e^{1.53})))\n",
    "\\newline\n",
    "\\implies\n",
    "\\newline\n",
    "-1.99 + 4.62(12.2 + 4.62(-3.11 + 4.62(-4.62 + 1.01*4.62)))\n",
    "\\newline\n",
    "\\implies\n",
    "\\newline\n",
    "-0.199 * 10 + 0.462 * 10 (0.122 * 10^{2} + 0.462 * 10(-0.311 * 10 + 0.462 * 10(-0.462 * 10 + 0.101 * 10 * 0.462 * 10)))\n",
    "\\newline\n",
    "\\implies\n",
    "\\newline\n",
    "-0.199 * 10 + 0.462 * 10 (0.122 * 10^{2} + 0.462 * 10(-0.311 * 10 + 0.462 * 10(-0.462 * 10 + 0.467 * 10)))\n",
    "\\newline\n",
    "\\implies\n",
    "\\newline\n",
    "-0.199 * 10 + 0.462 * 10 (0.122 * 10^{2} + 0.462 * 10(-0.311 * 10 + 0.462 * 10(0.5 * 10^{-1})))\n",
    "\\newline\n",
    "\\implies\n",
    "\\newline\n",
    "-0.199 * 10 + 0.462 * 10 (0.122 * 10^{2} + 0.462 * 10(-3.11 + 0.231))\n",
    "\\newline\n",
    "\\implies\n",
    "\\newline\n",
    "-0.199 * 10 + 0.462 * 10 (0.122 * 10^{2} + 0.462 * 10(-2.879))\n",
    "\\newline\n",
    "\\implies\n",
    "\\newline\n",
    "-0.199 * 10 + 0.462 * 10 (0.122 * 10^{2} + 0.462 * 10(-0.288 * 10))\n",
    "\\newline\n",
    "\\implies\n",
    "\\newline\n",
    "-0.199 * 10 + 0.462 * 10 (0.122 * 10^{2} - 0.133 * 10^{2})\n",
    "\\newline\n",
    "\\implies\n",
    "\\newline\n",
    "-0.199 * 10 + 0.462 * 10 (-0.11 * 10)\n",
    "\\newline\n",
    "\\implies\n",
    "\\newline\n",
    "-0.199 * 10 + -0.508 * 10\n",
    "\\newline\n",
    "\\implies\n",
    "\\newline\n",
    "-0.199 * 10 + -0.508 * 10\n",
    "\\newline\n",
    "\\implies\n",
    "\\newline\n",
    "-0.707 * 10\n",
    "\\newline\n",
    "\\implies\n",
    "\\newline\n",
    "-7.07\n",
    "\\end{gather*}\n"
   ]
  },
  {
   "attachments": {},
   "cell_type": "markdown",
   "metadata": {},
   "source": [
    "## d. \n",
    "\n",
    "To get better accuracy, we need the relative error percentage:"
   ]
  },
  {
   "cell_type": "code",
   "execution_count": 75,
   "metadata": {},
   "outputs": [
    {
     "data": {
      "text/latex": [
       "$\\displaystyle 0.107752956636005$"
      ],
      "text/plain": [
       "0.10775295663600529"
      ]
     },
     "execution_count": 75,
     "metadata": {},
     "output_type": "execute_result"
    }
   ],
   "source": [
    "# non nested error percentage\n",
    "abs(-6.79 - -7.61)/abs(-7.61)"
   ]
  },
  {
   "cell_type": "code",
   "execution_count": 76,
   "metadata": {},
   "outputs": [
    {
     "data": {
      "text/latex": [
       "$\\displaystyle 0.0709592641261498$"
      ],
      "text/plain": [
       "0.07095926412614981"
      ]
     },
     "execution_count": 76,
     "metadata": {},
     "output_type": "execute_result"
    }
   ],
   "source": [
    "# nested error percentage\n",
    "abs(-7.07 - -7.61)/abs(-7.61)"
   ]
  },
  {
   "attachments": {},
   "cell_type": "markdown",
   "metadata": {},
   "source": [
    "The nested form had a 7.1% error while the non-nested form had a 10.8% error. This means that the nested form is more accurate."
   ]
  },
  {
   "attachments": {},
   "cell_type": "markdown",
   "metadata": {},
   "source": [
    "# Problem 4\n",
    "\n",
    "$\\frac{1}{3}x^{2} - \\frac{123}{4}x + \\frac{1}{6} = 0$\n",
    "\n",
    "## a. \n",
    "\n",
    "$\\frac{b - \\sqrt{b^2 - 4ac}}{2a}$\n",
    "\n",
    "\\begin{gather*}\n",
    "\\frac{-\\frac{123}{4} - \\sqrt{(-\\frac{123}{4})^{2} - 4(\\frac{1}{3})(\\frac{1}{6})}}{2(\\frac{1}{3})}\n",
    "\\newline\n",
    "\\implies\n",
    "\\newline\n",
    "\\frac{-0.3075 * 10^{2} - \\sqrt{(-0.3075 * 10^{2})^{2} - 4(0.3333)(0.1666)}}{0.6666}\n",
    "\\newline\n",
    "\\implies\n",
    "\\newline\n",
    "\\frac{-0.3075 * 10^{2} - \\sqrt{(-0.3075 * 10^{2})^{2} - 4(0.5552 * 10)}}{0.6666}\n",
    "\\newline\n",
    "\\implies\n",
    "\\newline\n",
    "\\frac{-0.3075 * 10^{2} - \\sqrt{(-0.3075 * 10^{2})^{2} - 0.2220}}{0.6666}\n",
    "\\newline\n",
    "\\implies\n",
    "\\newline\n",
    "\\frac{-0.3075 * 10^{2} - \\sqrt{0.9455 * 10^{3} - 0.2220}}{0.6666}\n",
    "\\newline\n",
    "\\implies\n",
    "\\newline\n",
    "\\frac{-0.3075 * 10^{2} - \\sqrt{945.5 - 0.2220}}{0.6666}\n",
    "\\newline\n",
    "\\implies\n",
    "\\newline\n",
    "\\frac{-0.3075 * 10^{2} - \\sqrt{945.2}}{0.6666}\n",
    "\\newline\n",
    "\\implies\n",
    "\\newline\n",
    "\\frac{-30.75 - 30.74}{0.6666}\n",
    "\\newline\n",
    "\\implies\n",
    "\\newline\n",
    "\\frac{-30.75 - 30.74}{0.6666}\n",
    "\\newline\n",
    "\\implies\n",
    "\\newline\n",
    "\\frac{-61.49}{0.6666}\n",
    "\\newline\n",
    "\\implies\n",
    "\\newline\n",
    "-92.24\n",
    "\\end{gather*}\n",
    "\n",
    "## b.\n",
    "\n",
    "\\begin{gather*}\n",
    "x_{\\text{true}} = 0.0054 \\\\ \n",
    "x_{1} = -92.24 \\\\\n",
    "\\text{Absolute error: } \\implies |-92.24 - 0.0054| = 92.2454 \\\\\n",
    "\\text{Relative error: } \\implies \\frac{|-92.24 - 0.0054|}{|0.0054|} = 17082.4815 \\implies 1,708,248.15\\% \\text{ error}\n",
    "\\end{gather*}\n",
    "\n",
    "## c.\n",
    "\n",
    "$\\frac{b - \\sqrt{b^2 - 4ac}}{2a} \\implies \\frac{-4ac}{2a(b + \\sqrt{b^{2} - 4ac})}$\n",
    "\n",
    "\\begin{gather*}\n",
    "\\frac{-4ac}{2a(b + \\sqrt{b^{2} - 4ac})} \\\\ \n",
    "\\implies \\\\\n",
    "\\frac{-0.2220}{0.6666(-30.75 + \\sqrt{945.5 - 0.2220})} \\\\\n",
    "\\implies \\\\\n",
    "\\frac{-0.2220}{0.6666(-30.75 + \\sqrt{945.2})} \\\\\n",
    "\\implies \\\\\n",
    "\\frac{-0.2220}{0.6666(-30.75 - 30.74)} \\\\\n",
    "\\implies \\\\\n",
    "\\frac{-0.2220}{0.6666(-61.49)} \\\\\n",
    "\\implies \\\\\n",
    "\\frac{-0.2220}{-40.98} \\\\\n",
    "\\implies \\\\\n",
    "0.005417\n",
    "\\end{gather*}\n",
    "\n",
    "## d. \n",
    "\n",
    "\\begin{gather*}\n",
    "x_{\\text{true}} = 0.0054 \\\\ \n",
    "x_{1} = 0.005417 \\\\\n",
    "\\text{Absolute error: } \\implies |0.005417 - 0.0054| = 0.000017 \\\\\n",
    "\\text{Relative error: } \\implies \\frac{|0.005417 - 0.0054|}{|0.0054|} = 0.003148 \\implies 0.3148\\% \\text{ error} \\\\\n",
    "\\end{gather*}\n",
    "\n",
    "## e. \n",
    "\n",
    "The source of increasing error percentages would be the number of computations that has to be done to get the result. The more computations done, the more inaccuracies will build up because of the chopping process."
   ]
  },
  {
   "attachments": {},
   "cell_type": "markdown",
   "metadata": {},
   "source": [
    "# Problem 5\n",
    "\n",
    "## a. \n",
    "\n",
    "### i. \n",
    "\n",
    "\\begin{gather*}\n",
    "\\frac{4}{5} + \\frac{1}{3} = 0.8 + 0.3\\bar{3} = 1.13\\bar{3}\n",
    "\\end{gather*}\n",
    "\n",
    "### ii.\n",
    "\n",
    "\\begin{gather*}\n",
    "(\\frac{1}{3} + \\frac{3}{11}) - \\frac{3}{20}= 0.3\\bar{3} + 0.27\\bar{27} - 0.15 = 0.4560\\bar{60}\n",
    "\\end{gather*}\n",
    "\n",
    "## b.\n",
    "\n",
    "### i.\n",
    "\n",
    "\\begin{gather*}\n",
    "\\frac{4}{5} + \\frac{1}{3} = 0.8 + 0.333 = 1.133\n",
    "\\end{gather*}\n",
    "\n",
    "### ii.\n",
    "\n",
    "\\begin{gather*}\n",
    "(\\frac{1}{3} + \\frac{3}{11}) - \\frac{3}{20}= 0.333 + 0.272 - 0.15 = 0.455\n",
    "\\end{gather*}\n",
    "\n",
    "## c.\n",
    "\n",
    "### i.\n",
    "\n",
    "\\begin{gather*}\n",
    "\\frac{4}{5} + \\frac{1}{3} = 0.8 + 0.333 = 1.133\n",
    "\\end{gather*}\n",
    "\n",
    "### ii.\n",
    "\n",
    "\\begin{gather*}\n",
    "(\\frac{1}{3} + \\frac{3}{11}) - \\frac{3}{20}= 0.333 + 0.273 - 0.15 = 0.456\n",
    "\\end{gather*}\n",
    "\n",
    "## d.\n",
    "\n",
    "### i.\n",
    "\n",
    "\\begin{gather*}\n",
    "\\frac{|1.133 - 1.133|}{|1.133|} = 0\\% \\text{ error}\n",
    "\\end{gather*}\n",
    "\n",
    "### ii.\n",
    "\n",
    "\\begin{gather*}\n",
    "\\frac{|0.456 - 0.455|}{|0.455|} = 0.002197 \\implies 0.2197\\% \\text{ error}\n",
    "\\end{gather*}"
   ]
  },
  {
   "attachments": {},
   "cell_type": "markdown",
   "metadata": {},
   "source": [
    "# Coding Part"
   ]
  },
  {
   "cell_type": "code",
   "execution_count": 91,
   "metadata": {},
   "outputs": [
    {
     "name": "stdout",
     "output_type": "stream",
     "text": [
      "Program ran max iterations: 16\n",
      "1.73199462890625\n",
      "Program ran max iterations: 16\n",
      "-5.6178662627193177e-05\n"
     ]
    }
   ],
   "source": [
    "# condition to stop loop: reach counter number or until f(midpoint) = 0\n",
    "# default loop amount is 100\n",
    "def bisec(func, a, b, c = 100):\n",
    "    i = 0\n",
    "    mid = (a + b) / 2\n",
    "    while(i != c and func(mid) != 0):\n",
    "\n",
    "        mid = (a + b) / 2\n",
    "\n",
    "        # if func(mid) is negative and func(a) is negative OR \n",
    "        # func(mid) is + and func(a) is +, then [mid,b]\n",
    "\n",
    "        # if f(mid) and f(a) have same sign,\n",
    "        if((func(mid) < 0 and func(a) < 0) or (func(mid) > 0 and func(a) > 0)):\n",
    "            a = mid\n",
    "        # else, f(mid) and f(b) have same sign\n",
    "        else:\n",
    "            b = mid\n",
    "\n",
    "        # increment i\n",
    "        i += 1\n",
    "    \n",
    "    # print iteration amount\n",
    "    if(i == c):\n",
    "        print(\"Program ran max iterations:\", i)\n",
    "    else:\n",
    "        print(\"Program ran\", i, \"iterations\")\n",
    "    # result\n",
    "    return mid\n",
    "\n",
    "# this function is defined to have sqrt(3) as a root, so use\n",
    "# bisec function on this function\n",
    "def func(x):\n",
    "    return x**2 - 3\n",
    "\n",
    "# result\n",
    "print(bisec(func,0,4,16))\n",
    "\n",
    "# proof of 10^-5 tolerance\n",
    "print(bisec(func,0,4,16) - np.sqrt(3))"
   ]
  },
  {
   "attachments": {},
   "cell_type": "markdown",
   "metadata": {},
   "source": [
    "It took approximately 13 iterations for the resulting root value to have at least a $10^{-5}$ tolerance amount. "
   ]
  }
 ],
 "metadata": {
  "kernelspec": {
   "display_name": "Python 3",
   "language": "python",
   "name": "python3"
  },
  "language_info": {
   "codemirror_mode": {
    "name": "ipython",
    "version": 3
   },
   "file_extension": ".py",
   "mimetype": "text/x-python",
   "name": "python",
   "nbconvert_exporter": "python",
   "pygments_lexer": "ipython3",
   "version": "3.10.11"
  },
  "orig_nbformat": 4
 },
 "nbformat": 4,
 "nbformat_minor": 2
}
