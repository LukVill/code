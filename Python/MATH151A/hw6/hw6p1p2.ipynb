{
 "cells": [
  {
   "attachments": {},
   "cell_type": "markdown",
   "metadata": {},
   "source": [
    "# <center> Homework 6\n",
    "<center> Luke Villanueva \\\\ MATH151A \\\\ 6/5/23"
   ]
  },
  {
   "attachments": {},
   "cell_type": "markdown",
   "metadata": {},
   "source": [
    "# Problem 1\n",
    "\n",
    "To find a derivation for $f'(x_0)$ via the forward difference formula, $f''(x_0)$ must be cancelled out in the equation. This can be done via finding $f'(x_0)$ with $h \\longrightarrow 2h$ and $2f'(x_0)$ with $h$.\n",
    "\n",
    "\\begin{gather*}\n",
    "\n",
    "h \\longrightarrow 2h \\\\\n",
    "f'(x_0) = \\frac{f(x_0+2h - f(x_0))}{h} - hf''(x_0) + O(h^2) \\\\\\\\\n",
    "\n",
    "2f'(x_0) = \\frac{2f(x_0+h) - 2f(x_0)}{h} - hf''(x_0) + O(h^2) \\\\\\\\\n",
    "\n",
    "2f'(x_0) - f'(x_0) = \\frac{2f(x_0+h) - 2f(x_0)- (f(x_0+2h - f(x_0)))}{h} + O(h^2) \\\\\\\\\n",
    "\n",
    "2f'(x_0) - f'(x_0) = \\frac{2f(x_0+h) - f(x_0) - f(x_0+2h)}{h} + O(h^2) \\\\\\\\\n",
    "\n",
    "f'(x_0) = \\frac{2f(x_0+h) - f(x_0) - f(x_0+2h)}{h} + O(h^2) \\\\\\\\\n",
    "\n",
    "\\end{gather*}\n",
    "\n",
    "Now, we set $f(x) = \\ln{x}$ and $x_0 = 2$ and make a table of possible $h$ values:"
   ]
  },
  {
   "cell_type": "code",
   "execution_count": 7,
   "metadata": {},
   "outputs": [
    {
     "name": "stdout",
     "output_type": "stream",
     "text": [
      "   hvals    f'(x0)     Error\n",
      "0  0.100  0.022701  0.477299\n",
      "1  0.050  0.011901  0.488099\n",
      "2  0.025  0.006097  0.493903\n"
     ]
    }
   ],
   "source": [
    "import numpy as np\n",
    "import pandas as pd\n",
    "\n",
    "f = lambda x : np.log(x)\n",
    "\n",
    "f_realderiv = lambda x : 1/x\n",
    "\n",
    "def f_deriv(x_0,h):\n",
    "    return (-f(x_0+2*h) + 2*f(x_0+h) - f(x_0))/(h)\n",
    "\n",
    "result = pd.DataFrame({\"hvals\": [0.1,0.05,0.025]})\n",
    "\n",
    "h = result.iloc[:,0]\n",
    "\n",
    "# make result array of f_deriv \n",
    "f_arr = []\n",
    "for i in range(len(h)):\n",
    "    f_arr.append(f_deriv(2,h[i]))\n",
    "\n",
    "# add f_arr as col \n",
    "\n",
    "result.insert(1, \"f'(x0)\", f_arr)\n",
    "\n",
    "# make error array\n",
    "\n",
    "errArr = []\n",
    "for i in range(len(h)):\n",
    "    errArr.append(np.abs(result.iloc[i,1] - f_realderiv(2)))\n",
    "result.insert(2,\"Error\",errArr)\n",
    "\n",
    "print(result)\n"
   ]
  },
  {
   "attachments": {},
   "cell_type": "markdown",
   "metadata": {},
   "source": [
    "# Problem 2\n",
    "\n",
    "## a.\n",
    "\n",
    "Given $f'(x_0) = \\frac{f(x_0+h)-f(x_0)}{h} - \\frac{h}{2}f''(\\epsilon)$ such that $\\epsilon \\in (x_0,h)$, then to get roundoff errors, we must get $|f'(x_0) - \\bar{D_h}|$:\n",
    "\n",
    "\\begin{gather*}\n",
    "\n",
    "|f'(x_0) - \\bar{D_h}| = |f'(x_0) -D_h + D_h - \\bar{D_h}| \\\\\n",
    "\\leq |f'(x_0) - D_h| + |D_h - \\bar{D_h}| \\\\\n",
    "\\leq \\frac{h}{2}f''(\\epsilon) + \\frac{\\epsilon_M}{h} \\\\ \\text{ such that } \\epsilon_M \\text{ is smallest value on the machine} \\\\ \n",
    "\\text{Since } |f''(\\epsilon)| \\leq M \\text{ such that } M \\in \\mathbb{R} \\\\\n",
    "\\implies |f'(x_0) - \\bar{D_h}| \\leq \\frac{Mh}{2} + \\frac{\\epsilon_M}{h} \n",
    "\n",
    "\\end{gather*}"
   ]
  },
  {
   "attachments": {},
   "cell_type": "markdown",
   "metadata": {},
   "source": [
    "## b.\n",
    "\n",
    "\\begin{gather*}\n",
    "\n",
    "g(h) = \\frac{Mh}{2} + \\frac{\\epsilon_M}{h} \\\\\n",
    "\\implies g'(h) = \\frac{M}{2} - \\frac{\\epsilon_M}{h^2} \\\\\n",
    "\\text{Set } g'(h) \\text{ to 0 to get optimal } h \\\\\n",
    "\\implies \\frac{M}{2} - \\frac{\\epsilon_M}{h^2} = 0 \\\\\n",
    "\\frac{M}{2} = \\frac{\\epsilon_M}{h^2} \\\\\n",
    "h^2 = \\frac{2\\epsilon_M}{M} \\\\\n",
    "h = \\sqrt{\\frac{2\\epsilon_M}{M}} \\\\\\\\\n",
    "\n",
    "\\text{to find } M = max|f''(x)|,\n",
    "\n",
    "f(x) = xe^x \\\\\n",
    "f'(x) = e^x + xe^x \\\\\n",
    "f''(x) = 2e^x + xe^x \\\\\\\\\n",
    "1.8 \\leq x \\leq 2.2 \\implies max|f''(x)| \\leq f''(2.2) \\\\\n",
    "\\implies M = f''(2.2) \\\\\\\\\n",
    "\n",
    "\\end{gather*}"
   ]
  },
  {
   "cell_type": "code",
   "execution_count": 11,
   "metadata": {},
   "outputs": [
    {
     "name": "stdout",
     "output_type": "stream",
     "text": [
      "h = 3.422839500919146e-09\n"
     ]
    }
   ],
   "source": [
    "import numpy as np\n",
    "\n",
    "# calculate h using python and machine epsilon of 64bit system\n",
    "\n",
    "func = lambda x : 2*np.e**x + x*np.e**x\n",
    "\n",
    "res = np.sqrt((2*np.finfo(np.float64).eps)/(func(2.2)))\n",
    "\n",
    "print(\"h =\",res)"
   ]
  }
 ],
 "metadata": {
  "kernelspec": {
   "display_name": "Python 3",
   "language": "python",
   "name": "python3"
  },
  "language_info": {
   "codemirror_mode": {
    "name": "ipython",
    "version": 3
   },
   "file_extension": ".py",
   "mimetype": "text/x-python",
   "name": "python",
   "nbconvert_exporter": "python",
   "pygments_lexer": "ipython3",
   "version": "3.10.11"
  },
  "orig_nbformat": 4
 },
 "nbformat": 4,
 "nbformat_minor": 2
}
