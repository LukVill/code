{
 "cells": [
  {
   "attachments": {},
   "cell_type": "markdown",
   "metadata": {},
   "source": [
    "# Problem 5\n",
    "\n",
    "\\begin{gather*}\n",
    "\n",
    "e(h) = \\frac{\\epsilon}{h} + \\frac{Mh^2}{6} \\\\\n",
    "\\implies\n",
    "\\frac{d e(h)}{h} = -\\frac{\\epsilon}{h^2} + \\frac{Mh}{3} \\\\\\\\\n",
    "\n",
    "\\text{To find minimum, must set derivative to 0} \\\\\\\\\n",
    "\n",
    "\\implies\n",
    "-\\frac{\\epsilon}{h^2} + \\frac{Mh}{3} = 0 \\\\\n",
    "\\frac{Mh}{3} = \\frac{\\epsilon}{h^2} \\\\\n",
    "\\frac{Mh^3}{3} = \\epsilon \\\\\n",
    "h = \\sqrt[3]{\\frac{3\\epsilon}{M}}\n",
    "\n",
    "\\end{gather*}\n",
    "\n"
   ]
  },
  {
   "attachments": {},
   "cell_type": "markdown",
   "metadata": {},
   "source": [
    "# Problem 6"
   ]
  },
  {
   "cell_type": "code",
   "execution_count": 20,
   "metadata": {},
   "outputs": [
    {
     "name": "stdout",
     "output_type": "stream",
     "text": [
      "n = 6 result: 0.7842407666178159\n",
      "n = 100 result: 0.7853939967307823\n"
     ]
    }
   ],
   "source": [
    "import numpy as np \n",
    "import pandas as pd \n",
    "\n",
    "# make x values based on h = 1/3, n = 6\n",
    "x = np.linspace(0,2,7)\n",
    "h = 1/3\n",
    "\n",
    "f = lambda x : (2)/(x**2 + 4)\n",
    "\n",
    "# comp trapezoid\n",
    "def compTrap(x, f, h):\n",
    "    return (h/2)*(f(x[0]) + 2*(sum(f(x[1:len(x)-1]))) + f(x[len(x)-1]))\n",
    "\n",
    "# n = 6 result\n",
    "print(\"n = 6 result:\",compTrap(x,f,h))\n",
    "\n",
    "# make x vals based on h = n = 100\n",
    "x = np.linspace(0,2,101)\n",
    "h = 1/50\n",
    "\n",
    "# n = 100 result\n",
    "print(\"n = 100 result:\", compTrap(x,f,h))"
   ]
  },
  {
   "attachments": {},
   "cell_type": "markdown",
   "metadata": {},
   "source": [
    "# Problem 7"
   ]
  },
  {
   "cell_type": "code",
   "execution_count": 34,
   "metadata": {},
   "outputs": [
    {
     "name": "stdout",
     "output_type": "stream",
     "text": [
      "Composite Trapezoid: 0.42158203719810194\n",
      "Composite Simpson's Rule: 0.42271618793397653\n",
      "Composite Midpoint Rule 0.4364952238792126\n"
     ]
    }
   ],
   "source": [
    "import numpy as np\n",
    "import pandas as pd\n",
    "\n",
    "# make x vals based on n = 8, h = 0.25\n",
    "n = 8\n",
    "x = np.linspace(0,2,n+1)\n",
    "a = 0\n",
    "b = 2\n",
    "h = (b-a)/n\n",
    "\n",
    "f = lambda x : x**2 * (1/(np.e**(x**2)))\n",
    "\n",
    "# a. trapezoidal\n",
    "def compTrap(x, f, h):\n",
    "    return (h/2)*(f(x[0]) + 2*(sum(f(x[1:len(x)-1]))) + f(x[len(x)-1]))\n",
    "\n",
    "# b. simpson\n",
    "def compSimp(x,f,h):\n",
    "    # extract indices from index 1 to (n/2)-1\n",
    "    # first sum\n",
    "    sum1 = 0\n",
    "    for i in np.arange(1,int((len(x)-1)/2)):\n",
    "        sum1 += f(x[2*i])\n",
    "    # extract indices from index 1 to (n/2)\n",
    "    # second sum\n",
    "    sum2 = 0\n",
    "    for i in np.arange(1,int((len(x)-1)/2)+1):\n",
    "        sum2 += f(x[2*i - 1])\n",
    "\n",
    "    return (h/3)*(f(x[0]) + 2*sum1 + 4*sum2 + f(x[len(x)-1]))\n",
    "\n",
    "# c. midpoint\n",
    "def compMid(x,f,h):\n",
    "    # extract indices from index 0 to (n/2)\n",
    "    sum = 0\n",
    "    for i in np.arange(0,int((len(x)-1)/2)+1):\n",
    "        sum += f(x[2*i])\n",
    "\n",
    "    return 2 * h * sum\n",
    "\n",
    "# results\n",
    "print(\"Composite Trapezoid:\",compTrap(x,f,h))\n",
    "print(\"Composite Simpson's Rule:\",compSimp(x,f,h))\n",
    "print(\"Composite Midpoint Rule\",compMid(x,f,h))"
   ]
  }
 ],
 "metadata": {
  "kernelspec": {
   "display_name": "Python 3",
   "language": "python",
   "name": "python3"
  },
  "language_info": {
   "codemirror_mode": {
    "name": "ipython",
    "version": 3
   },
   "file_extension": ".py",
   "mimetype": "text/x-python",
   "name": "python",
   "nbconvert_exporter": "python",
   "pygments_lexer": "ipython3",
   "version": "3.10.11"
  },
  "orig_nbformat": 4
 },
 "nbformat": 4,
 "nbformat_minor": 2
}
