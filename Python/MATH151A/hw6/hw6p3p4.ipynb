{
 "cells": [
  {
   "attachments": {},
   "cell_type": "markdown",
   "metadata": {},
   "source": [
    "# Problem 3"
   ]
  },
  {
   "cell_type": "code",
   "execution_count": 7,
   "metadata": {},
   "outputs": [
    {
     "name": "stdout",
     "output_type": "stream",
     "text": [
      "     n   f_deriv\n",
      "0    1  2.858842\n",
      "1    2  2.731919\n",
      "2    3  2.719641\n",
      "3    4  2.718418\n",
      "4    5  2.718295\n",
      "5    6  2.718283\n",
      "6    7  2.718282\n",
      "7    8  2.718282\n",
      "8    9  2.718282\n",
      "9   10  2.718282\n",
      "10  11  2.718282\n",
      "11  12  2.718282\n",
      "12  13  2.718282\n",
      "13  14  2.718282\n",
      "14  15  2.718282\n",
      "15  16  2.718282\n",
      "16  17  2.718282\n",
      "17  18  2.718282\n",
      "18  19  2.718282\n",
      "19  20  2.718282\n"
     ]
    }
   ],
   "source": [
    "import numpy as np \n",
    "import pandas as pd\n",
    "\n",
    "# n array\n",
    "n = np.arange(1,21)\n",
    "\n",
    "f = lambda x : np.e**x\n",
    "\n",
    "\n",
    "# x0 = 1\n",
    "x0 = 1\n",
    "f_deriv = lambda n : (f(x0 + (1/10**n)) - f(x0)) /(1/(10**n))\n",
    "\n",
    "res = pd.DataFrame({\"n\" : n, \"f_deriv\" : f_deriv(n)})\n",
    "\n",
    "print(res)"
   ]
  },
  {
   "attachments": {},
   "cell_type": "markdown",
   "metadata": {},
   "source": [
    "As $n$ increases, the result gets closer to the value of $e$."
   ]
  },
  {
   "attachments": {},
   "cell_type": "markdown",
   "metadata": {},
   "source": [
    "# Problem 4\n",
    "\n",
    "\\begin{gather*}\n",
    "\n",
    "f(x_0 + h) = f(x_0) + f'(x_0)h + \\frac{f''(x_0)}{2!}h^2 + \\frac{f'''(x_0)}{3!}h^3 + \\frac{f''''(x_0)}{4!}h^4 + \\frac{f'''''(\\epsilon_1)}{5!}h^5 \\\\\n",
    "\n",
    "f(x_0 - h) = f(x_0) - f'(x_0)h + \\frac{f''(x_0)}{2!}h^2 - \\frac{f'''(x_0)}{3!}h^3 + \\frac{f''''(x_0)}{4!}h^4 - \\frac{f'''''(\\epsilon_1)}{5!}h^5 \\\\\n",
    "\n",
    "f(x_0 + 2h) = f(x_0) + f'(x_0)2h + \\frac{f''(x_0)}{2!}4h^2 + \\frac{f'''(x_0)}{3!}8h^3 + \\frac{f''''(x_0)}{4!}16h^4 + \\frac{f'''''(\\epsilon_1)}{5!}32h^5 \\\\\n",
    "\n",
    "f(x_0 - 2h) = f(x_0) - f'(x_0)2h + \\frac{f''(x_0)}{2!}4h^2 - \\frac{f'''(x_0)}{3!}8h^3 + \\frac{f''''(x_0)}{4!}16h^4 - \\frac{f'''''(\\epsilon_1)}{5!}32h^5 \\\\\\\\\n",
    "\n",
    "f(x_0 + 2h) - f(x_0 - 2h) = 4f'(x_0)h + \\frac{8 f'''(x_0)h^3}{3} + O(h^5) \\\\\n",
    "\n",
    "f(x_0 + h) - f(x_0 - h) = 2f'(x_0)h + \\frac{f'''(x_0)h^3}{3} + O(h^5) \\\\\n",
    "\\implies \n",
    "2f(x_0 + h) - 2f(x_0 - h) = 4f'(x_0)h + \\frac{2f'''(x_0)h^3}{3} + O(h^5) \\\\\\\\\n",
    "\n",
    "f(x_0 + 2h) - f(x_0 - 2h) - 2f(x_0 + h) + 2f(x_0 - h) = 2f'''(x_0)h^3 + O(h^5) \\\\\\\\\n",
    "\n",
    "f'''(x_0) = \\frac{f(x_0 + 2h) - f(x_0 - 2h) - 2f(x_0 + h) + 2f(x_0 - h)}{2h^3} + O(h^2)\n",
    " \n",
    "\\end{gather*}"
   ]
  }
 ],
 "metadata": {
  "kernelspec": {
   "display_name": "Python 3",
   "language": "python",
   "name": "python3"
  },
  "language_info": {
   "codemirror_mode": {
    "name": "ipython",
    "version": 3
   },
   "file_extension": ".py",
   "mimetype": "text/x-python",
   "name": "python",
   "nbconvert_exporter": "python",
   "pygments_lexer": "ipython3",
   "version": "3.10.11"
  },
  "orig_nbformat": 4
 },
 "nbformat": 4,
 "nbformat_minor": 2
}
