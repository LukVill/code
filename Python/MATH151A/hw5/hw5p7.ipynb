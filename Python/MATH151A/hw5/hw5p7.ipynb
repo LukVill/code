{
 "cells": [
  {
   "attachments": {},
   "cell_type": "markdown",
   "metadata": {},
   "source": [
    "# Problem 7"
   ]
  },
  {
   "cell_type": "code",
   "execution_count": 57,
   "metadata": {},
   "outputs": [
    {
     "name": "stdout",
     "output_type": "stream",
     "text": [
      "[-0.62049958 -0.28398668  0.00660095  0.2484244 ]\n",
      "[3.45508693 3.18521313 2.61707643]\n",
      "[ 0.       -2.698738 -2.982629  0.      ]\n",
      "[-8.99579333 -0.94630333  9.94209667]\n"
     ]
    }
   ],
   "source": [
    "import numpy as np\n",
    "\n",
    "# given x's\n",
    "x = np.array([0.1,0.2,0.3,0.4])\n",
    "\n",
    "# given f(x) are a\n",
    "a = np.array([-0.62049958,-0.28398668,0.00660095,0.24842440])\n",
    "\n",
    "# h is the same -> 0.1\n",
    "h = 0.1\n",
    "\n",
    "# A matrix - 4x4 matrix\n",
    "matA = np.zeros([4,4])\n",
    "# change elements\n",
    "matA[0,0] = 1\n",
    "matA[3,3] = 1\n",
    "# make middle row\n",
    "for i in range(2):\n",
    "    matA[1+i,i] = h\n",
    "    matA[1+i,i+1] = 4*h\n",
    "    matA[1+i,i+2] = h\n",
    "\n",
    "# make z array\n",
    "z = np.array([0])\n",
    "for i in range(2):\n",
    "    res = (3/h)*(a[i+2]-a[i+1]) - (3/h)*(a[i+1]-a[i])\n",
    "    z = np.append(z,res)\n",
    "z = np.append(z, 0)\n",
    "\n",
    "# get c array\n",
    "c = np.linalg.solve(matA,z)\n",
    "\n",
    "# get b\n",
    "b = np.array([])\n",
    "for i in range(len(c)-1):\n",
    "    res = ((a[i+1]-a[i])/h) - ((h*(c[i+1] + 2*c[i]))/(3))\n",
    "    b = np.append(b,res)\n",
    "\n",
    "# get d\n",
    "d = np.array([])\n",
    "for i in range(len(c)-1):\n",
    "    res = (c[i+1] - c[i]) / (3*h)\n",
    "    d = np.append(d,res)\n",
    "\n",
    "# print results\n",
    "print(a,b,c,d, sep = \"\\n\")"
   ]
  },
  {
   "attachments": {},
   "cell_type": "markdown",
   "metadata": {},
   "source": [
    "The results from the code imply that the cubic spline equations are as follows:\n",
    "\n",
    "\\begin{gather*}\n",
    "S_0(x) = -0.62049958 + 3.45508693(x-0.1) - 8.99579333(x-0.1)^3; 0.1 \\leq x < 0.2 \\\\\\\\\n",
    "\n",
    "S_1(x) = -0.28398668 + 3.18521313(x-0.2) - 2.698738(x-0.2)^2 - 0.94630333(x-0.2)^3; 0.2 \\leq x < 0.3 \\\\\\\\\n",
    "\n",
    "S_2(x) = 0.00660095 + 2.61707643(x-0.3) - 2.982629(x-0.3)^2 + 9.94209667(x-0.3)^3; 0.3 \\leq x < 0.4 \\\\\\\\\n",
    "\\end{gather*}"
   ]
  },
  {
   "cell_type": "code",
   "execution_count": 58,
   "metadata": {},
   "outputs": [
    {
     "data": {
      "image/png": "[encoded data removed]",
      "text/plain": [
       "<Figure size 640x480 with 1 Axes>"
      ]
     },
     "metadata": {},
     "output_type": "display_data"
    }
   ],
   "source": [
    "import matplotlib.pyplot as plt\n",
    "import seaborn as sns\n",
    "\n",
    "# plot the equations\n",
    "sfunc0 = lambda x : -0.62049958 + 3.45508693*(x-0.1) - 8.99579333*(x-0.1)**3\n",
    "\n",
    "sfunc1 = lambda x : -0.28398668 + 3.18521313*(x-0.2)  - 2.698738*(x-0.2)**2 - 0.94630333*(x-0.2)**3 \n",
    "\n",
    "sfunc2 = lambda x : 0.00660095 + 2.61707643*(x-0.3) - 2.982629*(x-0.3)**2 + 9.94209667*(x-0.3)**3 \n",
    "\n",
    "# given x's\n",
    "x = np.array([0.1,0.2,0.3,0.4])\n",
    "\n",
    "# given f(x) \n",
    "fx = np.array([-0.62049958,-0.28398668,0.00660095,0.24842440])\n",
    "\n",
    "# make figure and axis\n",
    "fig, ax = plt.subplots()\n",
    "\n",
    "sns.set_theme()\n",
    "\n",
    "# plot given points\n",
    "sns.scatterplot(x = x, y = fx)\n",
    "\n",
    "# make continuous data\n",
    "x_0 = np.linspace(0.1,0.2,1000)\n",
    "y_0 = sfunc0(x_0)\n",
    "x_1 = np.linspace(0.2,0.3,1000)\n",
    "y_1 = sfunc1(x_1)\n",
    "x_2 = np.linspace(0.3,0.4,1000)\n",
    "y_2 = sfunc2(x_2)\n",
    "\n",
    "# plot lines\n",
    "sns.lineplot(x = x_0, y = y_0)\n",
    "sns.lineplot(x = x_1, y = y_1)\n",
    "sns.lineplot(x = x_2, y = y_2)\n",
    "\n",
    "ax.set_title(\"Cubic Spline\")\n",
    "ax.set_xlabel(\"x\")\n",
    "ax.set_ylabel(\"f(x)\")\n",
    "\n",
    "plt.show()"
   ]
  },
  {
   "cell_type": "code",
   "execution_count": 59,
   "metadata": {},
   "outputs": [
    {
     "data": {
      "text/plain": [
       "-0.13159115641625"
      ]
     },
     "execution_count": 59,
     "metadata": {},
     "output_type": "execute_result"
    }
   ],
   "source": [
    "sfunc1(0.25)"
   ]
  },
  {
   "attachments": {},
   "cell_type": "markdown",
   "metadata": {},
   "source": [
    "Using the spline equation $S_1(x)$, f(0.25) is estimated to be about -0.13159."
   ]
  }
 ],
 "metadata": {
  "kernelspec": {
   "display_name": "Python 3",
   "language": "python",
   "name": "python3"
  },
  "language_info": {
   "codemirror_mode": {
    "name": "ipython",
    "version": 3
   },
   "file_extension": ".py",
   "mimetype": "text/x-python",
   "name": "python",
   "nbconvert_exporter": "python",
   "pygments_lexer": "ipython3",
   "version": "3.10.11"
  },
  "orig_nbformat": 4
 },
 "nbformat": 4,
 "nbformat_minor": 2
}
