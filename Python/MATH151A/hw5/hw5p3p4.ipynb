{
 "cells": [
  {
   "attachments": {},
   "cell_type": "markdown",
   "metadata": {},
   "source": [
    "# Problem 3\n",
    "\n",
    "Given a 3rd degree polynomial:\n",
    "\n",
    "$\n",
    "f(x) = ax^3 + bx^2 + cx + d\n",
    "\\renewcommand{\\R}{\\mathbb{R}}\n",
    "$\n",
    " such that $a,b,c,d \\in \\R$\n",
    "\n",
    "Because the function is cubic, f(x) satisfies Property 1 of cubic splines.\n",
    "\n",
    "Since f(x) is also in cubic format, f(x) is able to interpolate through all data nodes. I.e. $ \\forall x_i \\in [x_0,x_n], f(x) = s(x)$ such that $s(x)$ is a cubic spline of $f(x)$.\n",
    "\n",
    "f(x) satisfies Property 2 of cubic splines.\n",
    "\n",
    "Because f(x) is a polynomial, f, f', and f'' are all continuous.\n",
    "\n",
    "This satisfies Property 3, 4, and 5 of cubic splines.\n",
    "\n",
    "For Property 6, we know that $S'(x_0) = f'(x_0)$ has to be true. \n",
    "\n",
    "$\n",
    "f'(x) = 3ax^2 + 2bx + c\n",
    "$\n",
    "\n",
    "So, let S'(x) = f'(x), and this implies that f(x) can satisfy its own clamped spline condition.\n",
    "\n",
    "However, checking the natural spline condition, if $S(x) = f(x)$, then for $f(x)$ to be natural, $S''(x_0) = S''(x_n) = 0$.\n",
    "\n",
    "$\n",
    "S''(x_0) = 6ax_0 + 2b \\\\\n",
    "6ax_0 + 2b \\implies x_0 = -\\frac{b}{3a} \\\\\n",
    "6ax_n + 2b \\implies x_n = -\\frac{b}{3a} \n",
    "$\n",
    "\n",
    "This implies that $x_0$ and $x_n$ are not a 0 of S''(x), which implies that f(x) cannot satisfy the natural spline condition."
   ]
  },
  {
   "attachments": {},
   "cell_type": "markdown",
   "metadata": {},
   "source": [
    "# Problem 4\n",
    "\n",
    "## 3a"
   ]
  },
  {
   "cell_type": "code",
   "execution_count": 65,
   "metadata": {},
   "outputs": [
    {
     "name": "stdout",
     "output_type": "stream",
     "text": [
      "17.56492 [3.1341] [0. 0.] [0.]\n"
     ]
    }
   ],
   "source": [
    "import numpy as np\n",
    "\n",
    "# only 2 nodes, so h is 1 value\n",
    "h = 0.3\n",
    "\n",
    "# given output is ai\n",
    "ai = np.array([17.56492,18.50515])\n",
    "\n",
    "# given x_0 -> x_n\n",
    "xi = np.array([8.3,8.6])\n",
    "\n",
    "# since 2 nodes, A is identity\n",
    "A = np.mat([1,0,0,1]).reshape(2,2)\n",
    "\n",
    "# since 2 nodes, z array is 0\n",
    "z = np.zeros(2)\n",
    "\n",
    "# find ci, n x 1 dim\n",
    "ci = np.linalg.solve(A, z)\n",
    "\n",
    "# bi using a and h and ci\n",
    "bi = np.array([])\n",
    "for i in range(len(ai)-1):\n",
    "    res = ((ai[i+1] - ai[i])/(h)) - ((h * (ci[i+1] + 2 * ci[i])/3))\n",
    "    bi = np.append(bi,res)\n",
    "\n",
    "# di using ci\n",
    "di = np.array([])\n",
    "for i in range(len(ci)-1):\n",
    "    res = (ci[i+1]-ci[i])/(3*h)\n",
    "    di = np.append(di,res)\n",
    "\n",
    "# print result\n",
    "print(ai[0],bi,ci,di)"
   ]
  },
  {
   "attachments": {},
   "cell_type": "markdown",
   "metadata": {},
   "source": [
    "The results imply that the cubic spline in the interval $[x_0,x_1]$ is the following equation:\n",
    "\n",
    "$\n",
    "S_0(x) = 17.56492 + 3.1341x\n",
    "$\n",
    " such that $8.3 \\leq x < 8.6$"
   ]
  },
  {
   "attachments": {},
   "cell_type": "markdown",
   "metadata": {},
   "source": [
    "## 5a"
   ]
  },
  {
   "cell_type": "code",
   "execution_count": 66,
   "metadata": {},
   "outputs": [
    {
     "name": "stdout",
     "output_type": "stream",
     "text": [
      "26.014213670866155\n"
     ]
    }
   ],
   "source": [
    "func = lambda x : x * np.log(x)\n",
    "sfunc = lambda x : 17.56492 + 3.1341*x\n",
    "print(sfunc(8.4) - func(8.4))"
   ]
  },
  {
   "cell_type": "code",
   "execution_count": 67,
   "metadata": {},
   "outputs": [
    {
     "name": "stdout",
     "output_type": "stream",
     "text": [
      "-0.005868294150732201\n"
     ]
    }
   ],
   "source": [
    "func_deriv = lambda x : np.log(x) + 1\n",
    "sfunc_deriv = 3.1341\n",
    "print(func_deriv(8.4) - sfunc_deriv)"
   ]
  },
  {
   "attachments": {},
   "cell_type": "markdown",
   "metadata": {},
   "source": [
    "The results imply that the actual error between $f(x)$ and $S(x)$ is about 26.0142. The actual error between $f'(x)$ and $S'(x)$ is about -0.00587."
   ]
  }
 ],
 "metadata": {
  "kernelspec": {
   "display_name": "Python 3",
   "language": "python",
   "name": "python3"
  },
  "language_info": {
   "codemirror_mode": {
    "name": "ipython",
    "version": 3
   },
   "file_extension": ".py",
   "mimetype": "text/x-python",
   "name": "python",
   "nbconvert_exporter": "python",
   "pygments_lexer": "ipython3",
   "version": "3.10.11"
  },
  "orig_nbformat": 4
 },
 "nbformat": 4,
 "nbformat_minor": 2
}
