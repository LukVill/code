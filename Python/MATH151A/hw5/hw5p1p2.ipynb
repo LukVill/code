{
 "cells": [
  {
   "attachments": {},
   "cell_type": "markdown",
   "metadata": {},
   "source": [
    "# <center> Homework 5\n",
    "<center> Luke Villanueva \\\\ MATH151A \\\\ 5/24/23\n"
   ]
  },
  {
   "attachments": {},
   "cell_type": "markdown",
   "metadata": {},
   "source": [
    "# Problem 1\n",
    "\n",
    "Must get\n",
    "* h\n",
    "* M\n",
    "\n",
    "\\begin{gather*}\n",
    "\n",
    "h = \\frac{b-a}{n} = \\\\ \\frac{1}{n} \\checkmark \\\\\\\\\n",
    "\n",
    "M \\implies \\\\\n",
    "max_{x \\in [0,1]} |f^{(n+1)}(x)| \\leq M \\\\\n",
    "\n",
    "f'(x) = cos(x) \\\\\n",
    "f''(x) = -sin(x) \\\\\n",
    "f'''(x) = -cos(x) \\\\\n",
    "f''''(x) = sin(x) \\\\\\\\\n",
    "\\implies max_[0,1] |f^{(n+1)}(x)| \\leq 1 \\\\\n",
    "\\implies M = 1 \\checkmark \\\\\\\\\n",
    "\n",
    "\\implies |f(x) - P(x)| \\leq \\frac{M}{4}\\frac{h^{n+1}}{n+1} = \\frac{1}{4}\\frac{(\\frac{1}{n})^{n+1}}{n+1} = \\frac{\\frac{1}{n^{n+1}}}{4(n+1)} \\\\\n",
    "= \\frac{1}{n^{n+1}4(n+1)} \\\\\n",
    "\n",
    "\\implies |f(x) - P(x)| \\leq \\frac{1}{n^{n+1}4(n+1)}\n",
    "\n",
    "\\end{gather*}"
   ]
  },
  {
   "cell_type": "code",
   "execution_count": 1,
   "metadata": {},
   "outputs": [
    {
     "name": "stdout",
     "output_type": "stream",
     "text": [
      "0.125\n",
      "0.010416666666666666\n",
      "0.0007716049382716049\n",
      "4.8828125e-05\n",
      "2.666666666666667e-06\n"
     ]
    },
    {
     "data": {
      "text/plain": [
       "6"
      ]
     },
     "execution_count": 1,
     "metadata": {},
     "output_type": "execute_result"
    }
   ],
   "source": [
    "# find n such that the expression is less than 10^-6\n",
    "func = lambda n : 1/(n**(n+1) * 4 * (n+1))\n",
    "\n",
    "# while loop\n",
    "n = 1\n",
    "while(func(n) > 10**(-6)):\n",
    "    print(func(n))\n",
    "    n += 1\n",
    "\n",
    "n"
   ]
  },
  {
   "attachments": {},
   "cell_type": "markdown",
   "metadata": {},
   "source": [
    "The result means that by $x_6$, the error is below the tolerance amount. This implies that there needs to be $x_0,...,x_6$ for the error to be acceptable. In other words, 7 total data points."
   ]
  },
  {
   "attachments": {},
   "cell_type": "markdown",
   "metadata": {},
   "source": [
    "# Problem 2\n",
    "\n",
    "\\begin{gather*}\n",
    "\n",
    "S_0(2) = S_1(2) = 1 \\implies S_0(2) = 1 + B - D = 1 \\\\ \\implies B - D = 0 \\\\\n",
    "\n",
    "S_1(3) = S_2(3) = 0 \\implies S_1(3) = 1 + b - \\frac{3}{4} + d = 0 \\\\ \\implies b + d = -\\frac{1}{4} \\\\\n",
    "\n",
    "S'_0(2) = S'_1(2) \\\\ \\implies B - 3D = b \\\\\n",
    "\n",
    "S''_0(2) = S''_1(2) \\implies -6D = -\\frac{3}{2} \\\\ \\implies D = \\frac{1}{4} \\checkmark \\\\\n",
    "\n",
    "B - D = 0 \\implies B - \\frac{1}{4} = 0 \\\\ \\implies B = \\frac{1}{4} \\checkmark \\\\ \n",
    "\n",
    "B - 3D = b \\implies \\frac{1}{4} - 3\\frac{1}{4} = b \\\\ \\implies b = -\\frac{1}{2} \\checkmark \\\\\n",
    "\n",
    "b + d = -\\frac{1}{4} \\implies -\\frac{1}{2} + d = -\\frac{1}{4} \\\\ \\implies d = \\frac{1}{4} \\checkmark \\\\\n",
    "\n",
    "\\end{gather*}"
   ]
  }
 ],
 "metadata": {
  "kernelspec": {
   "display_name": "Python 3",
   "language": "python",
   "name": "python3"
  },
  "language_info": {
   "codemirror_mode": {
    "name": "ipython",
    "version": 3
   },
   "file_extension": ".py",
   "mimetype": "text/x-python",
   "name": "python",
   "nbconvert_exporter": "python",
   "pygments_lexer": "ipython3",
   "version": "3.10.11"
  },
  "orig_nbformat": 4
 },
 "nbformat": 4,
 "nbformat_minor": 2
}
